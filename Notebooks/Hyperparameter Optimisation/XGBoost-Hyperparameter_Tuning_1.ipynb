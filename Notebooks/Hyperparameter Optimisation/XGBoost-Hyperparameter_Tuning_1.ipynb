{
 "cells": [
  {
   "cell_type": "code",
   "execution_count": 1,
   "metadata": {
    "colab": {
     "base_uri": "https://localhost:8080/"
    },
    "id": "TuSof2dYONhQ",
    "outputId": "d1678596-eb39-4bbe-d286-245e354b79df",
    "tags": []
   },
   "outputs": [
    {
     "name": "stdout",
     "output_type": "stream",
     "text": [
      "Defaulting to user installation because normal site-packages is not writeable\n",
      "Requirement already satisfied: xgboost in /pfs/data5/home/ma/ma_ma/ma_prajula/.local/lib/python3.9/site-packages (1.7.5)\n",
      "Requirement already satisfied: scipy in /pfs/data5/software_uc2/bwhpc/common/jupyter/tensorflow/2023-03-24/lib/python3.9/site-packages (from xgboost) (1.10.1)\n",
      "Requirement already satisfied: numpy in /pfs/data5/software_uc2/bwhpc/common/jupyter/tensorflow/2023-03-24/lib/python3.9/site-packages (from xgboost) (1.23.5)\n",
      "\n",
      "\u001b[1m[\u001b[0m\u001b[34;49mnotice\u001b[0m\u001b[1;39;49m]\u001b[0m\u001b[39;49m A new release of pip is available: \u001b[0m\u001b[31;49m23.0.1\u001b[0m\u001b[39;49m -> \u001b[0m\u001b[32;49m23.1.2\u001b[0m\n",
      "\u001b[1m[\u001b[0m\u001b[34;49mnotice\u001b[0m\u001b[1;39;49m]\u001b[0m\u001b[39;49m To update, run: \u001b[0m\u001b[32;49mpip install --upgrade pip\u001b[0m\n"
     ]
    }
   ],
   "source": [
    "!pip install xgboost"
   ]
  },
  {
   "cell_type": "code",
   "execution_count": 2,
   "metadata": {
    "colab": {
     "base_uri": "https://localhost:8080/"
    },
    "id": "A2R0JweEGiDV",
    "outputId": "ad287986-3a54-4a8f-f1fe-77ec9ba6fadd"
   },
   "outputs": [
    {
     "ename": "ModuleNotFoundError",
     "evalue": "No module named 'google.colab'",
     "output_type": "error",
     "traceback": [
      "\u001b[0;31m---------------------------------------------------------------------------\u001b[0m",
      "\u001b[0;31mModuleNotFoundError\u001b[0m                       Traceback (most recent call last)",
      "Cell \u001b[0;32mIn[2], line 1\u001b[0m\n\u001b[0;32m----> 1\u001b[0m \u001b[38;5;28;01mfrom\u001b[39;00m \u001b[38;5;21;01mgoogle\u001b[39;00m\u001b[38;5;21;01m.\u001b[39;00m\u001b[38;5;21;01mcolab\u001b[39;00m \u001b[38;5;28;01mimport\u001b[39;00m drive\n\u001b[1;32m      2\u001b[0m drive\u001b[38;5;241m.\u001b[39mmount(\u001b[38;5;124m'\u001b[39m\u001b[38;5;124m/content/drive\u001b[39m\u001b[38;5;124m'\u001b[39m)\n\u001b[1;32m      4\u001b[0m \u001b[38;5;28;01mimport\u001b[39;00m \u001b[38;5;21;01mos\u001b[39;00m\n",
      "\u001b[0;31mModuleNotFoundError\u001b[0m: No module named 'google.colab'"
     ]
    }
   ],
   "source": [
    "from google.colab import drive\n",
    "drive.mount('/content/drive')\n",
    "\n",
    "import os\n",
    "os.chdir(\"/content/drive/My Drive\")"
   ]
  },
  {
   "cell_type": "code",
   "execution_count": 12,
   "metadata": {
    "id": "VCesUYB5FBUY",
    "tags": []
   },
   "outputs": [],
   "source": [
    "import pandas as pd\n",
    "import numpy as np\n",
    "import matplotlib.pyplot as plt\n",
    "import seaborn as sns\n",
    "import xgboost\n",
    "\n",
    "from sklearn.preprocessing import RobustScaler, StandardScaler, MinMaxScaler, MaxAbsScaler, LabelEncoder\n",
    "from sklearn.model_selection import train_test_split, RepeatedStratifiedKFold\n",
    "from sklearn.experimental import enable_halving_search_cv\n",
    "from sklearn.model_selection import HalvingGridSearchCV\n",
    "from sklearn.linear_model import LogisticRegression\n",
    "from fast_ml.model_development import train_valid_test_split\n",
    "\n",
    "from xgboost import XGBClassifier\n",
    "from sklearn.ensemble import RandomForestClassifier\n",
    "from sklearn.svm import SVC\n",
    "from sklearn.feature_selection import SelectKBest, chi2 ,f_classif\n",
    "from sklearn.pipeline import Pipeline\n",
    "import sklearn.metrics as metrics"
   ]
  },
  {
   "cell_type": "code",
   "execution_count": 13,
   "metadata": {
    "id": "vi8WmWYBFFyc"
   },
   "outputs": [],
   "source": [
    "# loanData = pd.read_csv('DM1 Project/CleanedData/cleanLoanData.csv')\n",
    "# loanData = loanData.drop(columns = ['Unnamed: 0'])"
   ]
  },
  {
   "cell_type": "code",
   "execution_count": 14,
   "metadata": {
    "tags": []
   },
   "outputs": [],
   "source": [
    "loanData = pd.read_csv('cleanLoanData.csv')\n",
    "loanData = loanData.drop(columns = ['Unnamed: 0'])"
   ]
  },
  {
   "cell_type": "markdown",
   "metadata": {
    "id": "ZFFkdFNOGtb1"
   },
   "source": [
    "#### Splitting into Train-Test"
   ]
  },
  {
   "cell_type": "code",
   "execution_count": 15,
   "metadata": {
    "id": "4VVwyb3GGpk7",
    "tags": []
   },
   "outputs": [],
   "source": [
    "X_train, y_train, X_val, y_val, X_test, y_test = train_valid_test_split(loanData, target = 'MIS_Status',train_size=0.8, valid_size=0.1, test_size=0.1) "
   ]
  },
  {
   "cell_type": "code",
   "execution_count": 16,
   "metadata": {
    "colab": {
     "base_uri": "https://localhost:8080/"
    },
    "id": "RIAZmKQVG08f",
    "outputId": "56f1d3ee-0f4a-4398-c858-6573f5504fe0",
    "tags": []
   },
   "outputs": [
    {
     "name": "stdout",
     "output_type": "stream",
     "text": [
      "(206864, 19)\n",
      "(206864,)\n",
      "(25858, 19)\n",
      "(25858,)\n",
      "(25858, 19)\n",
      "(25858,)\n"
     ]
    }
   ],
   "source": [
    "#checking shapes of all splitted sets\n",
    "print(X_train.shape)\n",
    "print(y_train.shape)\n",
    "print(X_val.shape)\n",
    "print(y_val.shape)\n",
    "print(X_test.shape)\n",
    "print(y_test.shape)"
   ]
  },
  {
   "cell_type": "markdown",
   "metadata": {
    "id": "WNj0jvGu0SLd"
   },
   "source": [
    "### Scaling the dataset for feature importance selections"
   ]
  },
  {
   "cell_type": "code",
   "execution_count": 17,
   "metadata": {
    "id": "UZmMazxu0Wj9",
    "tags": []
   },
   "outputs": [],
   "source": [
    "scaler = StandardScaler()\n",
    "X_train_scaled = scaler.fit_transform(X_train)\n",
    "X_train = pd.DataFrame(X_train_scaled, columns=X_train.columns)\n",
    "X_test_scaled = scaler.transform(X_test)\n",
    "X_test = pd.DataFrame(X_test_scaled, columns=X_test.columns)\n",
    "X_val_scaled = scaler.transform(X_val)\n",
    "X_val = pd.DataFrame(X_val_scaled, columns=X_val.columns)"
   ]
  },
  {
   "cell_type": "markdown",
   "metadata": {
    "id": "2A-elb2KG6gE"
   },
   "source": [
    "#### Selecting scores of features"
   ]
  },
  {
   "cell_type": "code",
   "execution_count": 18,
   "metadata": {
    "colab": {
     "base_uri": "https://localhost:8080/",
     "height": 638
    },
    "id": "KrsBrrhGG2lm",
    "outputId": "e7a33144-6791-49e6-b90e-9c5bc48202d4",
    "tags": []
   },
   "outputs": [
    {
     "data": {
      "text/html": [
       "<div>\n",
       "<style scoped>\n",
       "    .dataframe tbody tr th:only-of-type {\n",
       "        vertical-align: middle;\n",
       "    }\n",
       "\n",
       "    .dataframe tbody tr th {\n",
       "        vertical-align: top;\n",
       "    }\n",
       "\n",
       "    .dataframe thead th {\n",
       "        text-align: right;\n",
       "    }\n",
       "</style>\n",
       "<table border=\"1\" class=\"dataframe\">\n",
       "  <thead>\n",
       "    <tr style=\"text-align: right;\">\n",
       "      <th></th>\n",
       "      <th>Feature</th>\n",
       "      <th>Score</th>\n",
       "    </tr>\n",
       "  </thead>\n",
       "  <tbody>\n",
       "    <tr>\n",
       "      <th>0</th>\n",
       "      <td>ChgOffPrinGr</td>\n",
       "      <td>62051.640818</td>\n",
       "    </tr>\n",
       "    <tr>\n",
       "      <th>1</th>\n",
       "      <td>Term</td>\n",
       "      <td>40148.776720</td>\n",
       "    </tr>\n",
       "    <tr>\n",
       "      <th>2</th>\n",
       "      <td>SBA_Gurantee_percent</td>\n",
       "      <td>9635.735337</td>\n",
       "    </tr>\n",
       "    <tr>\n",
       "      <th>3</th>\n",
       "      <td>IsDisbLargerThanGrAppv</td>\n",
       "      <td>4612.730982</td>\n",
       "    </tr>\n",
       "    <tr>\n",
       "      <th>4</th>\n",
       "      <td>DisbursementDuration_days</td>\n",
       "      <td>2761.436626</td>\n",
       "    </tr>\n",
       "    <tr>\n",
       "      <th>5</th>\n",
       "      <td>LowDoc</td>\n",
       "      <td>2711.831449</td>\n",
       "    </tr>\n",
       "    <tr>\n",
       "      <th>6</th>\n",
       "      <td>SBA_Appv</td>\n",
       "      <td>2224.115168</td>\n",
       "    </tr>\n",
       "    <tr>\n",
       "      <th>7</th>\n",
       "      <td>GrAppv</td>\n",
       "      <td>1553.651359</td>\n",
       "    </tr>\n",
       "    <tr>\n",
       "      <th>8</th>\n",
       "      <td>RevLineCr</td>\n",
       "      <td>1411.845550</td>\n",
       "    </tr>\n",
       "    <tr>\n",
       "      <th>9</th>\n",
       "      <td>DisbursementGross</td>\n",
       "      <td>991.092725</td>\n",
       "    </tr>\n",
       "    <tr>\n",
       "      <th>10</th>\n",
       "      <td>SameState</td>\n",
       "      <td>691.362254</td>\n",
       "    </tr>\n",
       "    <tr>\n",
       "      <th>11</th>\n",
       "      <td>State</td>\n",
       "      <td>656.565350</td>\n",
       "    </tr>\n",
       "    <tr>\n",
       "      <th>12</th>\n",
       "      <td>BankState</td>\n",
       "      <td>501.284348</td>\n",
       "    </tr>\n",
       "    <tr>\n",
       "      <th>13</th>\n",
       "      <td>RetainedJob</td>\n",
       "      <td>201.633579</td>\n",
       "    </tr>\n",
       "    <tr>\n",
       "      <th>14</th>\n",
       "      <td>NoEmp</td>\n",
       "      <td>105.954371</td>\n",
       "    </tr>\n",
       "    <tr>\n",
       "      <th>15</th>\n",
       "      <td>NewExist</td>\n",
       "      <td>39.059084</td>\n",
       "    </tr>\n",
       "    <tr>\n",
       "      <th>16</th>\n",
       "      <td>IsFranchise</td>\n",
       "      <td>32.754711</td>\n",
       "    </tr>\n",
       "    <tr>\n",
       "      <th>17</th>\n",
       "      <td>NAICS</td>\n",
       "      <td>10.660637</td>\n",
       "    </tr>\n",
       "    <tr>\n",
       "      <th>18</th>\n",
       "      <td>CreateJob</td>\n",
       "      <td>2.309312</td>\n",
       "    </tr>\n",
       "  </tbody>\n",
       "</table>\n",
       "</div>"
      ],
      "text/plain": [
       "                      Feature         Score\n",
       "0                ChgOffPrinGr  62051.640818\n",
       "1                        Term  40148.776720\n",
       "2        SBA_Gurantee_percent   9635.735337\n",
       "3      IsDisbLargerThanGrAppv   4612.730982\n",
       "4   DisbursementDuration_days   2761.436626\n",
       "5                      LowDoc   2711.831449\n",
       "6                    SBA_Appv   2224.115168\n",
       "7                      GrAppv   1553.651359\n",
       "8                   RevLineCr   1411.845550\n",
       "9           DisbursementGross    991.092725\n",
       "10                  SameState    691.362254\n",
       "11                      State    656.565350\n",
       "12                  BankState    501.284348\n",
       "13                RetainedJob    201.633579\n",
       "14                      NoEmp    105.954371\n",
       "15                   NewExist     39.059084\n",
       "16                IsFranchise     32.754711\n",
       "17                      NAICS     10.660637\n",
       "18                  CreateJob      2.309312"
      ]
     },
     "execution_count": 18,
     "metadata": {},
     "output_type": "execute_result"
    }
   ],
   "source": [
    "bestfeatures = SelectKBest(score_func = f_classif, k='all')\n",
    "fit = bestfeatures.fit(X_train, y_train)\n",
    "scores = pd.DataFrame(fit.scores_.round(6))\n",
    "columns = pd.DataFrame(X_train.columns)\n",
    "featureScores = pd.concat([columns, scores], axis = 1)\n",
    "featureScores.columns = ['Feature','Score']\n",
    "featureScores = featureScores.sort_values('Score', ascending = False, ignore_index=True)\n",
    "featureScores"
   ]
  },
  {
   "cell_type": "code",
   "execution_count": 19,
   "metadata": {
    "colab": {
     "base_uri": "https://localhost:8080/",
     "height": 633
    },
    "id": "NIUCYYgWHI2u",
    "outputId": "a04e10b5-424e-4ba9-f69b-f620d34346cb",
    "tags": []
   },
   "outputs": [
    {
     "data": {
      "image/png": "[encoded data removed]",
      "text/plain": [
       "<Figure size 640x480 with 1 Axes>"
      ]
     },
     "metadata": {},
     "output_type": "display_data"
    }
   ],
   "source": [
    "sns.lineplot(data = featureScores, x = \"Feature\", y = \"Score\", color = \"red\", linewidth=2.5)\n",
    "max_valued_feature = featureScores.loc[featureScores['Score'] == featureScores['Score'].max(), 'Feature'].iloc[0]\n",
    "plt.axvline(max_valued_feature, color = 'black')\n",
    "plt.xticks(rotation = 90)\n",
    "plt.show()"
   ]
  },
  {
   "cell_type": "code",
   "execution_count": 11,
   "metadata": {
    "id": "pMnICj7WrmAM",
    "tags": []
   },
   "outputs": [],
   "source": [
    "#Dropping features\n",
    "loan_data_fdrop = loanData.drop(['State','BankState','RetainedJob','NoEmp','NewExist','IsFranchise','NAICS','CreateJob'], axis = 1)\n",
    "\n",
    "#Spliting into train-val-test\n",
    "X_train, y_train, X_val, y_val, X_test, y_test = train_valid_test_split(loan_data_fdrop, target = 'MIS_Status',train_size=0.8, valid_size=0.1, test_size=0.1) "
   ]
  },
  {
   "cell_type": "code",
   "execution_count": 12,
   "metadata": {
    "colab": {
     "base_uri": "https://localhost:8080/",
     "height": 407
    },
    "id": "UjA9b2w09d9H",
    "outputId": "d1e7156e-e675-45c0-a251-a5f7d8602ea4",
    "tags": []
   },
   "outputs": [
    {
     "data": {
      "image/png": "[encoded data removed]",
      "text/plain": [
       "<Figure size 1200x400 with 3 Axes>"
      ]
     },
     "metadata": {},
     "output_type": "display_data"
    }
   ],
   "source": [
    "import matplotlib.pyplot as plt\n",
    "\n",
    "fig, (ax, ax2, ax3) = plt.subplots(1, 3, figsize=(12, 4))\n",
    "colors = ['#4287f5', '#f54242']  # Custom color palette\n",
    "\n",
    "for i, subplot in enumerate([ax, ax2, ax3]):\n",
    "    y_values = [y_train, y_val, y_test][i]\n",
    "    y_values.value_counts().plot(kind='bar', ax=subplot, color=colors)\n",
    "\n",
    "    # Customize the plot\n",
    "    subplot.set_title('Class Distribution', fontsize=16)\n",
    "    subplot.set_xlabel('Class', fontsize=12)\n",
    "    subplot.set_ylabel('Count', fontsize=12)\n",
    "    subplot.tick_params(axis='x', rotation=0, labelsize=10)\n",
    "    subplot.tick_params(axis='y', labelsize=10)\n",
    "    subplot.grid(axis='y', linestyle='--', alpha=0.7)\n",
    "\n",
    "    # Add value labels to the bars\n",
    "    for p in subplot.patches:\n",
    "        subplot.annotate(format(p.get_height(), '.0f'),\n",
    "                         (p.get_x() + p.get_width() / 2, p.get_height()),\n",
    "                         ha='center', va='center', xytext=(0, 5),\n",
    "                         textcoords='offset points', fontsize=10, color='black')\n",
    "\n",
    "    # Remove the spines\n",
    "    subplot.spines['top'].set_visible(False)\n",
    "    subplot.spines['right'].set_visible(False)\n",
    "\n",
    "# Adjust spacing between subplots\n",
    "plt.tight_layout()\n",
    "\n",
    "# Show the plot\n",
    "plt.show()\n"
   ]
  },
  {
   "cell_type": "markdown",
   "metadata": {
    "id": "_upuyjwWQ5i-"
   },
   "source": [
    "### Grid Search for XGBoost"
   ]
  },
  {
   "cell_type": "markdown",
   "metadata": {
    "id": "klj0ONhVbbj4"
   },
   "source": [
    "#### XGBoost"
   ]
  },
  {
   "cell_type": "code",
   "execution_count": 20,
   "metadata": {
    "tags": []
   },
   "outputs": [],
   "source": [
    "clf = XGBClassifier(random_state = 0)"
   ]
  },
  {
   "cell_type": "code",
   "execution_count": 21,
   "metadata": {
    "colab": {
     "base_uri": "https://localhost:8080/"
    },
    "id": "_QNZL25jcIJX",
    "outputId": "1e437243-1081-4d05-9b41-57e3c9c1aa92",
    "tags": []
   },
   "outputs": [
    {
     "data": {
      "text/plain": [
       "{'objective': 'binary:logistic',\n",
       " 'use_label_encoder': None,\n",
       " 'base_score': None,\n",
       " 'booster': None,\n",
       " 'callbacks': None,\n",
       " 'colsample_bylevel': None,\n",
       " 'colsample_bynode': None,\n",
       " 'colsample_bytree': None,\n",
       " 'early_stopping_rounds': None,\n",
       " 'enable_categorical': False,\n",
       " 'eval_metric': None,\n",
       " 'feature_types': None,\n",
       " 'gamma': None,\n",
       " 'gpu_id': None,\n",
       " 'grow_policy': None,\n",
       " 'importance_type': None,\n",
       " 'interaction_constraints': None,\n",
       " 'learning_rate': None,\n",
       " 'max_bin': None,\n",
       " 'max_cat_threshold': None,\n",
       " 'max_cat_to_onehot': None,\n",
       " 'max_delta_step': None,\n",
       " 'max_depth': None,\n",
       " 'max_leaves': None,\n",
       " 'min_child_weight': None,\n",
       " 'missing': nan,\n",
       " 'monotone_constraints': None,\n",
       " 'n_estimators': 100,\n",
       " 'n_jobs': None,\n",
       " 'num_parallel_tree': None,\n",
       " 'predictor': None,\n",
       " 'random_state': 0,\n",
       " 'reg_alpha': None,\n",
       " 'reg_lambda': None,\n",
       " 'sampling_method': None,\n",
       " 'scale_pos_weight': None,\n",
       " 'subsample': None,\n",
       " 'tree_method': None,\n",
       " 'validate_parameters': None,\n",
       " 'verbosity': None}"
      ]
     },
     "execution_count": 21,
     "metadata": {},
     "output_type": "execute_result"
    }
   ],
   "source": [
    "clf.get_params()"
   ]
  },
  {
   "cell_type": "code",
   "execution_count": 22,
   "metadata": {
    "id": "l3Ym2qrAiwsL",
    "tags": []
   },
   "outputs": [],
   "source": [
    "pipe_xgboost = Pipeline([('scaler', StandardScaler()),('clf', XGBClassifier(random_state = 0))])"
   ]
  },
  {
   "cell_type": "code",
   "execution_count": 23,
   "metadata": {
    "tags": []
   },
   "outputs": [],
   "source": [
    "xg_params = {\n",
    "     'scaler': [StandardScaler(), MinMaxScaler(), RobustScaler(), MaxAbsScaler()],\n",
    "     'clf__booster': ['gbtree','dart'],\n",
    "     'clf__colsample_bytree': [1, 3],\n",
    "     'clf__learning_rate': [0.1, 0.3],\n",
    "     'clf__max_delta_step': [0, 1],\n",
    "     'clf__max_depth': [None, 2, 5, 10],\n",
    "     'clf__min_child_weight': [1, 2],\n",
    "     'clf__n_estimators': [10, 50, 100, 200, 500],\n",
    "     'clf__objective': ['binary:logistic'],\n",
    "     'clf__reg_lambda': [1, 2, 3],\n",
    "     'clf__scale_pos_weight': [1, 2],\n",
    "     'clf__subsample': [1],\n",
    "     'clf__verbosity': [1]}\n",
    "\n",
    "cv = RepeatedStratifiedKFold(n_splits = 5, n_repeats = 2, random_state = 0) #5 Fold cv repeated 2 times"
   ]
  },
  {
   "cell_type": "markdown",
   "metadata": {
    "id": "QUdVQ-PBjxyV"
   },
   "source": [
    "The factor param controls the rate at which the resources grow and the rate at which the number of candidates decrease. Per iter :-> n_reources*factor and n_candidates/factor"
   ]
  },
  {
   "cell_type": "code",
   "execution_count": 24,
   "metadata": {
    "colab": {
     "base_uri": "https://localhost:8080/",
     "height": 1000
    },
    "id": "ORq6cFt1bryw",
    "outputId": "43b44caf-9c95-4dda-90b0-0819f6bd2fe6",
    "tags": []
   },
   "outputs": [
    {
     "name": "stdout",
     "output_type": "stream",
     "text": [
      "n_iterations: 8\n",
      "n_required_iterations: 9\n",
      "n_possible_iterations: 8\n",
      "min_resources_: 40\n",
      "max_resources_: 206864\n",
      "aggressive_elimination: False\n",
      "factor: 3\n",
      "----------\n",
      "iter: 0\n",
      "n_candidates: 15360\n",
      "n_resources: 40\n",
      "Fitting 10 folds for each of 15360 candidates, totalling 153600 fits\n",
      "----------\n",
      "iter: 1\n",
      "n_candidates: 5120\n",
      "n_resources: 120\n",
      "Fitting 10 folds for each of 5120 candidates, totalling 51200 fits\n",
      "----------\n",
      "iter: 2\n",
      "n_candidates: 1707\n",
      "n_resources: 360\n",
      "Fitting 10 folds for each of 1707 candidates, totalling 17070 fits\n",
      "----------\n",
      "iter: 3\n",
      "n_candidates: 569\n",
      "n_resources: 1080\n",
      "Fitting 10 folds for each of 569 candidates, totalling 5690 fits\n",
      "----------\n",
      "iter: 4\n",
      "n_candidates: 190\n",
      "n_resources: 3240\n",
      "Fitting 10 folds for each of 190 candidates, totalling 1900 fits\n",
      "----------\n",
      "iter: 5\n",
      "n_candidates: 64\n",
      "n_resources: 9720\n",
      "Fitting 10 folds for each of 64 candidates, totalling 640 fits\n",
      "----------\n",
      "iter: 6\n",
      "n_candidates: 22\n",
      "n_resources: 29160\n",
      "Fitting 10 folds for each of 22 candidates, totalling 220 fits\n",
      "----------\n",
      "iter: 7\n",
      "n_candidates: 8\n",
      "n_resources: 87480\n",
      "Fitting 10 folds for each of 8 candidates, totalling 80 fits\n"
     ]
    }
   ],
   "source": [
    "gs = HalvingGridSearchCV(pipe_xgboost, xg_params, scoring=\"f1_macro\", n_jobs=-1, min_resources=\"exhaust\", factor=3, verbose = 1, cv = cv)\n",
    "gs.fit(X_train, y_train)\n",
    "y_pred = gs.predict(X_val)"
   ]
  },
  {
   "cell_type": "markdown",
   "metadata": {
    "id": "m9XQUBuBjAk1"
   },
   "source": [
    ":::Results:::"
   ]
  },
  {
   "cell_type": "code",
   "execution_count": 26,
   "metadata": {
    "id": "jBktn7b2gbNx",
    "tags": []
   },
   "outputs": [
    {
     "name": "stdout",
     "output_type": "stream",
     "text": [
      "accuracy 0.9935029778018408\n",
      "f1 score macro 0.9895958726374696\n",
      "f1 score micro 0.9935029778018408\n",
      "precision score 0.9840656362342224\n",
      "recall score 0.9953660110042118\n",
      "hamming_loss 0.006497022198159177\n",
      "classification_report \n",
      "               precision    recall  f1-score   support\n",
      "\n",
      "         0.0       0.97      1.00      0.98      4930\n",
      "         1.0       1.00      0.99      1.00     20928\n",
      "\n",
      "    accuracy                           0.99     25858\n",
      "   macro avg       0.98      1.00      0.99     25858\n",
      "weighted avg       0.99      0.99      0.99     25858\n",
      "\n"
     ]
    }
   ],
   "source": [
    "print(\"accuracy\",metrics.accuracy_score(y_val, y_pred))\n",
    "print(\"f1 score macro\",metrics.f1_score(y_val, y_pred, average='macro')) \n",
    "print(\"f1 score micro\",metrics.f1_score(y_val, y_pred, average='micro')) \n",
    "print(\"precision score\",metrics.precision_score(y_val, y_pred, average='macro')) \n",
    "print(\"recall score\",metrics.recall_score(y_val, y_pred, average='macro')) \n",
    "print(\"hamming_loss\",metrics.hamming_loss(y_val, y_pred))\n",
    "print(\"classification_report \\n\", metrics.classification_report(y_val, y_pred))"
   ]
  },
  {
   "cell_type": "code",
   "execution_count": 27,
   "metadata": {
    "id": "G51RdU0agevY",
    "tags": []
   },
   "outputs": [
    {
     "name": "stdout",
     "output_type": "stream",
     "text": [
      "Number of resources used in each iteration:  [40, 120, 360, 1080, 3240, 9720, 29160, 87480]\n",
      "Best Parameters:  {'clf__booster': 'dart', 'clf__colsample_bytree': 1, 'clf__learning_rate': 0.1, 'clf__max_delta_step': 0, 'clf__max_depth': 2, 'clf__min_child_weight': 2, 'clf__n_estimators': 50, 'clf__objective': 'binary:logistic', 'clf__reg_lambda': 1, 'clf__scale_pos_weight': 1, 'clf__subsample': 1, 'clf__verbosity': 1, 'scaler': StandardScaler()}\n"
     ]
    },
    {
     "data": {
      "text/html": [
       "<div>\n",
       "<style scoped>\n",
       "    .dataframe tbody tr th:only-of-type {\n",
       "        vertical-align: middle;\n",
       "    }\n",
       "\n",
       "    .dataframe tbody tr th {\n",
       "        vertical-align: top;\n",
       "    }\n",
       "\n",
       "    .dataframe thead th {\n",
       "        text-align: right;\n",
       "    }\n",
       "</style>\n",
       "<table border=\"1\" class=\"dataframe\">\n",
       "  <thead>\n",
       "    <tr style=\"text-align: right;\">\n",
       "      <th></th>\n",
       "      <th>iter</th>\n",
       "      <th>n_resources</th>\n",
       "      <th>mean_fit_time</th>\n",
       "      <th>std_fit_time</th>\n",
       "      <th>mean_score_time</th>\n",
       "      <th>std_score_time</th>\n",
       "      <th>param_clf__booster</th>\n",
       "      <th>param_clf__colsample_bytree</th>\n",
       "      <th>param_clf__learning_rate</th>\n",
       "      <th>param_clf__max_delta_step</th>\n",
       "      <th>...</th>\n",
       "      <th>split2_train_score</th>\n",
       "      <th>split3_train_score</th>\n",
       "      <th>split4_train_score</th>\n",
       "      <th>split5_train_score</th>\n",
       "      <th>split6_train_score</th>\n",
       "      <th>split7_train_score</th>\n",
       "      <th>split8_train_score</th>\n",
       "      <th>split9_train_score</th>\n",
       "      <th>mean_train_score</th>\n",
       "      <th>std_train_score</th>\n",
       "    </tr>\n",
       "  </thead>\n",
       "  <tbody>\n",
       "    <tr>\n",
       "      <th>0</th>\n",
       "      <td>0</td>\n",
       "      <td>40</td>\n",
       "      <td>0.014079</td>\n",
       "      <td>0.000612</td>\n",
       "      <td>0.006337</td>\n",
       "      <td>0.000327</td>\n",
       "      <td>gbtree</td>\n",
       "      <td>1</td>\n",
       "      <td>0.1</td>\n",
       "      <td>0</td>\n",
       "      <td>...</td>\n",
       "      <td>1.000000</td>\n",
       "      <td>1.000000</td>\n",
       "      <td>1.000000</td>\n",
       "      <td>1.000000</td>\n",
       "      <td>1.00</td>\n",
       "      <td>0.944742</td>\n",
       "      <td>0.959477</td>\n",
       "      <td>1.000000</td>\n",
       "      <td>0.984896</td>\n",
       "      <td>0.023383</td>\n",
       "    </tr>\n",
       "    <tr>\n",
       "      <th>1</th>\n",
       "      <td>0</td>\n",
       "      <td>40</td>\n",
       "      <td>0.012477</td>\n",
       "      <td>0.001640</td>\n",
       "      <td>0.005856</td>\n",
       "      <td>0.000870</td>\n",
       "      <td>gbtree</td>\n",
       "      <td>1</td>\n",
       "      <td>0.1</td>\n",
       "      <td>0</td>\n",
       "      <td>...</td>\n",
       "      <td>1.000000</td>\n",
       "      <td>1.000000</td>\n",
       "      <td>1.000000</td>\n",
       "      <td>1.000000</td>\n",
       "      <td>1.00</td>\n",
       "      <td>0.944742</td>\n",
       "      <td>0.959477</td>\n",
       "      <td>1.000000</td>\n",
       "      <td>0.984896</td>\n",
       "      <td>0.023383</td>\n",
       "    </tr>\n",
       "    <tr>\n",
       "      <th>2</th>\n",
       "      <td>0</td>\n",
       "      <td>40</td>\n",
       "      <td>0.013990</td>\n",
       "      <td>0.000534</td>\n",
       "      <td>0.005823</td>\n",
       "      <td>0.000376</td>\n",
       "      <td>gbtree</td>\n",
       "      <td>1</td>\n",
       "      <td>0.1</td>\n",
       "      <td>0</td>\n",
       "      <td>...</td>\n",
       "      <td>1.000000</td>\n",
       "      <td>1.000000</td>\n",
       "      <td>1.000000</td>\n",
       "      <td>1.000000</td>\n",
       "      <td>1.00</td>\n",
       "      <td>0.944742</td>\n",
       "      <td>0.959477</td>\n",
       "      <td>1.000000</td>\n",
       "      <td>0.984896</td>\n",
       "      <td>0.023383</td>\n",
       "    </tr>\n",
       "    <tr>\n",
       "      <th>3</th>\n",
       "      <td>0</td>\n",
       "      <td>40</td>\n",
       "      <td>0.010784</td>\n",
       "      <td>0.000466</td>\n",
       "      <td>0.005897</td>\n",
       "      <td>0.000356</td>\n",
       "      <td>gbtree</td>\n",
       "      <td>1</td>\n",
       "      <td>0.1</td>\n",
       "      <td>0</td>\n",
       "      <td>...</td>\n",
       "      <td>1.000000</td>\n",
       "      <td>1.000000</td>\n",
       "      <td>1.000000</td>\n",
       "      <td>1.000000</td>\n",
       "      <td>1.00</td>\n",
       "      <td>0.944742</td>\n",
       "      <td>0.959477</td>\n",
       "      <td>1.000000</td>\n",
       "      <td>0.984896</td>\n",
       "      <td>0.023383</td>\n",
       "    </tr>\n",
       "    <tr>\n",
       "      <th>4</th>\n",
       "      <td>0</td>\n",
       "      <td>40</td>\n",
       "      <td>0.010469</td>\n",
       "      <td>0.000725</td>\n",
       "      <td>0.005299</td>\n",
       "      <td>0.000842</td>\n",
       "      <td>gbtree</td>\n",
       "      <td>1</td>\n",
       "      <td>0.1</td>\n",
       "      <td>0</td>\n",
       "      <td>...</td>\n",
       "      <td>1.000000</td>\n",
       "      <td>1.000000</td>\n",
       "      <td>1.000000</td>\n",
       "      <td>1.000000</td>\n",
       "      <td>1.00</td>\n",
       "      <td>0.944742</td>\n",
       "      <td>0.956028</td>\n",
       "      <td>1.000000</td>\n",
       "      <td>0.984551</td>\n",
       "      <td>0.023778</td>\n",
       "    </tr>\n",
       "    <tr>\n",
       "      <th>...</th>\n",
       "      <td>...</td>\n",
       "      <td>...</td>\n",
       "      <td>...</td>\n",
       "      <td>...</td>\n",
       "      <td>...</td>\n",
       "      <td>...</td>\n",
       "      <td>...</td>\n",
       "      <td>...</td>\n",
       "      <td>...</td>\n",
       "      <td>...</td>\n",
       "      <td>...</td>\n",
       "      <td>...</td>\n",
       "      <td>...</td>\n",
       "      <td>...</td>\n",
       "      <td>...</td>\n",
       "      <td>...</td>\n",
       "      <td>...</td>\n",
       "      <td>...</td>\n",
       "      <td>...</td>\n",
       "      <td>...</td>\n",
       "      <td>...</td>\n",
       "    </tr>\n",
       "    <tr>\n",
       "      <th>23035</th>\n",
       "      <td>7</td>\n",
       "      <td>87480</td>\n",
       "      <td>1.966198</td>\n",
       "      <td>0.023540</td>\n",
       "      <td>0.034098</td>\n",
       "      <td>0.008791</td>\n",
       "      <td>gbtree</td>\n",
       "      <td>1</td>\n",
       "      <td>0.1</td>\n",
       "      <td>0</td>\n",
       "      <td>...</td>\n",
       "      <td>0.989491</td>\n",
       "      <td>0.990353</td>\n",
       "      <td>0.989599</td>\n",
       "      <td>0.989743</td>\n",
       "      <td>0.99</td>\n",
       "      <td>0.989723</td>\n",
       "      <td>0.989847</td>\n",
       "      <td>0.989961</td>\n",
       "      <td>0.989791</td>\n",
       "      <td>0.000265</td>\n",
       "    </tr>\n",
       "    <tr>\n",
       "      <th>23036</th>\n",
       "      <td>7</td>\n",
       "      <td>87480</td>\n",
       "      <td>0.622630</td>\n",
       "      <td>0.044875</td>\n",
       "      <td>0.064049</td>\n",
       "      <td>0.008221</td>\n",
       "      <td>dart</td>\n",
       "      <td>1</td>\n",
       "      <td>0.1</td>\n",
       "      <td>0</td>\n",
       "      <td>...</td>\n",
       "      <td>0.989491</td>\n",
       "      <td>0.990351</td>\n",
       "      <td>0.989599</td>\n",
       "      <td>0.989743</td>\n",
       "      <td>0.99</td>\n",
       "      <td>0.989722</td>\n",
       "      <td>0.989847</td>\n",
       "      <td>0.989961</td>\n",
       "      <td>0.989791</td>\n",
       "      <td>0.000265</td>\n",
       "    </tr>\n",
       "    <tr>\n",
       "      <th>23037</th>\n",
       "      <td>7</td>\n",
       "      <td>87480</td>\n",
       "      <td>0.642003</td>\n",
       "      <td>0.018840</td>\n",
       "      <td>0.060887</td>\n",
       "      <td>0.001110</td>\n",
       "      <td>dart</td>\n",
       "      <td>1</td>\n",
       "      <td>0.1</td>\n",
       "      <td>1</td>\n",
       "      <td>...</td>\n",
       "      <td>0.989491</td>\n",
       "      <td>0.990353</td>\n",
       "      <td>0.989599</td>\n",
       "      <td>0.989743</td>\n",
       "      <td>0.99</td>\n",
       "      <td>0.989722</td>\n",
       "      <td>0.989847</td>\n",
       "      <td>0.989961</td>\n",
       "      <td>0.989791</td>\n",
       "      <td>0.000265</td>\n",
       "    </tr>\n",
       "    <tr>\n",
       "      <th>23038</th>\n",
       "      <td>7</td>\n",
       "      <td>87480</td>\n",
       "      <td>1.919219</td>\n",
       "      <td>0.066987</td>\n",
       "      <td>0.028292</td>\n",
       "      <td>0.001116</td>\n",
       "      <td>gbtree</td>\n",
       "      <td>1</td>\n",
       "      <td>0.1</td>\n",
       "      <td>0</td>\n",
       "      <td>...</td>\n",
       "      <td>0.989491</td>\n",
       "      <td>0.990353</td>\n",
       "      <td>0.989599</td>\n",
       "      <td>0.989743</td>\n",
       "      <td>0.99</td>\n",
       "      <td>0.989723</td>\n",
       "      <td>0.989847</td>\n",
       "      <td>0.989961</td>\n",
       "      <td>0.989791</td>\n",
       "      <td>0.000265</td>\n",
       "    </tr>\n",
       "    <tr>\n",
       "      <th>23039</th>\n",
       "      <td>7</td>\n",
       "      <td>87480</td>\n",
       "      <td>0.392342</td>\n",
       "      <td>0.055028</td>\n",
       "      <td>0.014167</td>\n",
       "      <td>0.002767</td>\n",
       "      <td>gbtree</td>\n",
       "      <td>1</td>\n",
       "      <td>0.1</td>\n",
       "      <td>0</td>\n",
       "      <td>...</td>\n",
       "      <td>0.989491</td>\n",
       "      <td>0.990351</td>\n",
       "      <td>0.989599</td>\n",
       "      <td>0.989743</td>\n",
       "      <td>0.99</td>\n",
       "      <td>0.989722</td>\n",
       "      <td>0.989847</td>\n",
       "      <td>0.989961</td>\n",
       "      <td>0.989791</td>\n",
       "      <td>0.000265</td>\n",
       "    </tr>\n",
       "  </tbody>\n",
       "</table>\n",
       "<p>23040 rows × 45 columns</p>\n",
       "</div>"
      ],
      "text/plain": [
       "       iter  n_resources  mean_fit_time  std_fit_time  mean_score_time  \\\n",
       "0         0           40       0.014079      0.000612         0.006337   \n",
       "1         0           40       0.012477      0.001640         0.005856   \n",
       "2         0           40       0.013990      0.000534         0.005823   \n",
       "3         0           40       0.010784      0.000466         0.005897   \n",
       "4         0           40       0.010469      0.000725         0.005299   \n",
       "...     ...          ...            ...           ...              ...   \n",
       "23035     7        87480       1.966198      0.023540         0.034098   \n",
       "23036     7        87480       0.622630      0.044875         0.064049   \n",
       "23037     7        87480       0.642003      0.018840         0.060887   \n",
       "23038     7        87480       1.919219      0.066987         0.028292   \n",
       "23039     7        87480       0.392342      0.055028         0.014167   \n",
       "\n",
       "       std_score_time param_clf__booster param_clf__colsample_bytree  \\\n",
       "0            0.000327             gbtree                           1   \n",
       "1            0.000870             gbtree                           1   \n",
       "2            0.000376             gbtree                           1   \n",
       "3            0.000356             gbtree                           1   \n",
       "4            0.000842             gbtree                           1   \n",
       "...               ...                ...                         ...   \n",
       "23035        0.008791             gbtree                           1   \n",
       "23036        0.008221               dart                           1   \n",
       "23037        0.001110               dart                           1   \n",
       "23038        0.001116             gbtree                           1   \n",
       "23039        0.002767             gbtree                           1   \n",
       "\n",
       "      param_clf__learning_rate param_clf__max_delta_step  ...  \\\n",
       "0                          0.1                         0  ...   \n",
       "1                          0.1                         0  ...   \n",
       "2                          0.1                         0  ...   \n",
       "3                          0.1                         0  ...   \n",
       "4                          0.1                         0  ...   \n",
       "...                        ...                       ...  ...   \n",
       "23035                      0.1                         0  ...   \n",
       "23036                      0.1                         0  ...   \n",
       "23037                      0.1                         1  ...   \n",
       "23038                      0.1                         0  ...   \n",
       "23039                      0.1                         0  ...   \n",
       "\n",
       "      split2_train_score split3_train_score split4_train_score  \\\n",
       "0               1.000000           1.000000           1.000000   \n",
       "1               1.000000           1.000000           1.000000   \n",
       "2               1.000000           1.000000           1.000000   \n",
       "3               1.000000           1.000000           1.000000   \n",
       "4               1.000000           1.000000           1.000000   \n",
       "...                  ...                ...                ...   \n",
       "23035           0.989491           0.990353           0.989599   \n",
       "23036           0.989491           0.990351           0.989599   \n",
       "23037           0.989491           0.990353           0.989599   \n",
       "23038           0.989491           0.990353           0.989599   \n",
       "23039           0.989491           0.990351           0.989599   \n",
       "\n",
       "      split5_train_score split6_train_score split7_train_score  \\\n",
       "0               1.000000               1.00           0.944742   \n",
       "1               1.000000               1.00           0.944742   \n",
       "2               1.000000               1.00           0.944742   \n",
       "3               1.000000               1.00           0.944742   \n",
       "4               1.000000               1.00           0.944742   \n",
       "...                  ...                ...                ...   \n",
       "23035           0.989743               0.99           0.989723   \n",
       "23036           0.989743               0.99           0.989722   \n",
       "23037           0.989743               0.99           0.989722   \n",
       "23038           0.989743               0.99           0.989723   \n",
       "23039           0.989743               0.99           0.989722   \n",
       "\n",
       "      split8_train_score split9_train_score mean_train_score std_train_score  \n",
       "0               0.959477           1.000000         0.984896        0.023383  \n",
       "1               0.959477           1.000000         0.984896        0.023383  \n",
       "2               0.959477           1.000000         0.984896        0.023383  \n",
       "3               0.959477           1.000000         0.984896        0.023383  \n",
       "4               0.956028           1.000000         0.984551        0.023778  \n",
       "...                  ...                ...              ...             ...  \n",
       "23035           0.989847           0.989961         0.989791        0.000265  \n",
       "23036           0.989847           0.989961         0.989791        0.000265  \n",
       "23037           0.989847           0.989961         0.989791        0.000265  \n",
       "23038           0.989847           0.989961         0.989791        0.000265  \n",
       "23039           0.989847           0.989961         0.989791        0.000265  \n",
       "\n",
       "[23040 rows x 45 columns]"
      ]
     },
     "execution_count": 27,
     "metadata": {},
     "output_type": "execute_result"
    }
   ],
   "source": [
    "# Printing the number of resouces exhausted in each iteration\n",
    "print(\"Number of resources used in each iteration: \", gs.n_resources_)\n",
    "\n",
    "# Printing out the best parameters for the selected classifier\n",
    "print('Best Parameters: ', gs.best_params_)\n",
    "\n",
    "# Access the best set of parameters\n",
    "best_params_xg = gs.best_params_\n",
    "\n",
    "# Stores the optimum model in best_pipe\n",
    "best_pipe_xg = gs.best_estimator_\n",
    "\n",
    "results_df_xg = pd.DataFrame.from_dict(gs.cv_results_, orient='columns')\n",
    "results_df_xg"
   ]
  },
  {
   "cell_type": "markdown",
   "metadata": {
    "id": "gVGuJPghjOrx"
   },
   "source": [
    "Training using the best parameters obtained by Grid Search"
   ]
  },
  {
   "cell_type": "code",
   "execution_count": 28,
   "metadata": {
    "id": "7hmtWyhKjGsH",
    "tags": []
   },
   "outputs": [],
   "source": [
    "tuned_xgb_pipe = Pipeline([('scaler',StandardScaler()),\n",
    "                          ('clf', XGBClassifier(n_estimators = 50,\n",
    "                                                booster = 'dart', \n",
    "                                                colsample_bytree = 1, \n",
    "                                                learning_rate = 0.1,\n",
    "                                                max_delta_step = 0, \n",
    "                                                max_depth = 2, \n",
    "                                                min_child_weight = 2,\n",
    "                                                objective = 'binary:logistic',\n",
    "                                                reg_lambda = 1,\n",
    "                                                scale_pos_weight = 1,\n",
    "                                                subsample = 1,\n",
    "                                                verbosity = 1))])"
   ]
  },
  {
   "cell_type": "markdown",
   "metadata": {},
   "source": [
    "#### Retraining the whole training set and predicting on test"
   ]
  },
  {
   "cell_type": "code",
   "execution_count": 29,
   "metadata": {},
   "outputs": [],
   "source": [
    "#Dropping features\n",
    "loan_data_fdrop = loanData.drop(['State','BankState','RetainedJob','NoEmp','NewExist','IsFranchise','NAICS','CreateJob'], axis = 1)\n",
    "X = loan_data_fdrop.drop(['MIS_Status'], axis = 1)\n",
    "y = loan_data_fdrop['MIS_Status']\n",
    "\n",
    "#Spliting into train-test\n",
    "X_train, X_test, y_train, y_test = train_test_split(X, y, stratify = y, test_size = 0.2, random_state = 0, shuffle = True)"
   ]
  },
  {
   "cell_type": "code",
   "execution_count": 30,
   "metadata": {
    "tags": []
   },
   "outputs": [],
   "source": [
    "tuned_xgb_pipe.fit(X_train, y_train)\n",
    "y_xgtest_pred = tuned_xgb_pipe.predict(X_test)"
   ]
  },
  {
   "cell_type": "code",
   "execution_count": 31,
   "metadata": {
    "tags": []
   },
   "outputs": [],
   "source": [
    "def plot_confusion_matrix(y_true, y_pred, labels = ['CHGOFF', 'PIF'],\n",
    "                          normalize=False, title=None, cmap=plt.cm.coolwarm):\n",
    "\n",
    "    cm = metrics.confusion_matrix(y_true, y_pred)\n",
    "    fig, ax = plt.subplots(figsize=(12,6))\n",
    "    im = ax.imshow(cm, interpolation='nearest', cmap=cmap)\n",
    "    ax.figure.colorbar(im, ax=ax)\n",
    "    ax.set(xticks=np.arange(cm.shape[1]),\n",
    "           yticks=np.arange(cm.shape[0]),\n",
    "           xticklabels=labels, yticklabels=labels,\n",
    "           title=title,\n",
    "           ylabel='ACTUAL',\n",
    "           xlabel='PREDICTED')\n",
    "    plt.setp(ax.get_xticklabels(), rotation=45, ha=\"right\",\n",
    "             rotation_mode=\"anchor\")\n",
    "\n",
    "    fmt = '.2f' if normalize else 'd'\n",
    "    thresh = cm.max() / 1.5\n",
    "    for i in range(cm.shape[0]):\n",
    "        for j in range(cm.shape[1]):\n",
    "            ax.text(j, i, format(cm[i, j], fmt),\n",
    "                    ha=\"center\", va=\"center\",\n",
    "                    color=\"snow\" if cm[i, j] > thresh else \"orange\",\n",
    "                    size=26)\n",
    "    ax.grid(False)\n",
    "    fig.tight_layout()\n",
    "    return ax"
   ]
  },
  {
   "cell_type": "code",
   "execution_count": 32,
   "metadata": {
    "tags": []
   },
   "outputs": [
    {
     "data": {
      "image/png": "[encoded data removed]",
      "text/plain": [
       "<Figure size 1200x600 with 2 Axes>"
      ]
     },
     "metadata": {},
     "output_type": "display_data"
    },
    {
     "name": "stdout",
     "output_type": "stream",
     "text": [
      "              precision    recall  f1-score   support\n",
      "\n",
      "         0.0       0.97      1.00      0.98      9749\n",
      "         1.0       1.00      0.99      1.00     41967\n",
      "\n",
      "    accuracy                           0.99     51716\n",
      "   macro avg       0.98      1.00      0.99     51716\n",
      "weighted avg       0.99      0.99      0.99     51716\n",
      "\n"
     ]
    }
   ],
   "source": [
    "plot_confusion_matrix(y_test, y_xgtest_pred, title=\"Confusion Matrix For Tuned XGBoost\")\n",
    "np.set_printoptions(precision=1)\n",
    "plt.show()\n",
    "\n",
    "# Final Classification Report\n",
    "print(metrics.classification_report(y_test, y_xgtest_pred))"
   ]
  },
  {
   "cell_type": "code",
   "execution_count": 40,
   "metadata": {},
   "outputs": [
    {
     "name": "stdout",
     "output_type": "stream",
     "text": [
      "Elements wrongly classified: \n",
      "(335, 11)\n"
     ]
    },
    {
     "data": {
      "text/html": [
       "<div>\n",
       "<style scoped>\n",
       "    .dataframe tbody tr th:only-of-type {\n",
       "        vertical-align: middle;\n",
       "    }\n",
       "\n",
       "    .dataframe tbody tr th {\n",
       "        vertical-align: top;\n",
       "    }\n",
       "\n",
       "    .dataframe thead th {\n",
       "        text-align: right;\n",
       "    }\n",
       "</style>\n",
       "<table border=\"1\" class=\"dataframe\">\n",
       "  <thead>\n",
       "    <tr style=\"text-align: right;\">\n",
       "      <th></th>\n",
       "      <th>Term</th>\n",
       "      <th>RevLineCr</th>\n",
       "      <th>LowDoc</th>\n",
       "      <th>DisbursementGross</th>\n",
       "      <th>ChgOffPrinGr</th>\n",
       "      <th>GrAppv</th>\n",
       "      <th>SBA_Appv</th>\n",
       "      <th>DisbursementDuration_days</th>\n",
       "      <th>SameState</th>\n",
       "      <th>SBA_Gurantee_percent</th>\n",
       "      <th>IsDisbLargerThanGrAppv</th>\n",
       "    </tr>\n",
       "  </thead>\n",
       "  <tbody>\n",
       "    <tr>\n",
       "      <th>count</th>\n",
       "      <td>335.000000</td>\n",
       "      <td>335.000000</td>\n",
       "      <td>335.000000</td>\n",
       "      <td>335.000000</td>\n",
       "      <td>335.000000</td>\n",
       "      <td>335.000000</td>\n",
       "      <td>335.000000</td>\n",
       "      <td>335.000000</td>\n",
       "      <td>335.000000</td>\n",
       "      <td>335.000000</td>\n",
       "      <td>335.000000</td>\n",
       "    </tr>\n",
       "    <tr>\n",
       "      <th>mean</th>\n",
       "      <td>35.644776</td>\n",
       "      <td>0.501493</td>\n",
       "      <td>0.041791</td>\n",
       "      <td>65023.056716</td>\n",
       "      <td>23172.710448</td>\n",
       "      <td>50974.677612</td>\n",
       "      <td>33855.450746</td>\n",
       "      <td>70.244776</td>\n",
       "      <td>0.080597</td>\n",
       "      <td>0.573304</td>\n",
       "      <td>0.465672</td>\n",
       "    </tr>\n",
       "    <tr>\n",
       "      <th>std</th>\n",
       "      <td>36.031620</td>\n",
       "      <td>0.500746</td>\n",
       "      <td>0.200411</td>\n",
       "      <td>113761.534746</td>\n",
       "      <td>68442.000823</td>\n",
       "      <td>107389.714693</td>\n",
       "      <td>84129.312193</td>\n",
       "      <td>94.878806</td>\n",
       "      <td>0.272622</td>\n",
       "      <td>0.141092</td>\n",
       "      <td>0.499566</td>\n",
       "    </tr>\n",
       "    <tr>\n",
       "      <th>min</th>\n",
       "      <td>0.000000</td>\n",
       "      <td>0.000000</td>\n",
       "      <td>0.000000</td>\n",
       "      <td>4412.000000</td>\n",
       "      <td>0.000000</td>\n",
       "      <td>1500.000000</td>\n",
       "      <td>750.000000</td>\n",
       "      <td>1.000000</td>\n",
       "      <td>0.000000</td>\n",
       "      <td>0.500000</td>\n",
       "      <td>0.000000</td>\n",
       "    </tr>\n",
       "    <tr>\n",
       "      <th>25%</th>\n",
       "      <td>13.000000</td>\n",
       "      <td>0.000000</td>\n",
       "      <td>0.000000</td>\n",
       "      <td>16700.000000</td>\n",
       "      <td>5000.000000</td>\n",
       "      <td>10000.000000</td>\n",
       "      <td>5000.000000</td>\n",
       "      <td>25.000000</td>\n",
       "      <td>0.000000</td>\n",
       "      <td>0.500000</td>\n",
       "      <td>0.000000</td>\n",
       "    </tr>\n",
       "    <tr>\n",
       "      <th>50%</th>\n",
       "      <td>29.000000</td>\n",
       "      <td>1.000000</td>\n",
       "      <td>0.000000</td>\n",
       "      <td>30000.000000</td>\n",
       "      <td>10000.000000</td>\n",
       "      <td>25000.000000</td>\n",
       "      <td>12500.000000</td>\n",
       "      <td>41.000000</td>\n",
       "      <td>0.000000</td>\n",
       "      <td>0.500000</td>\n",
       "      <td>0.000000</td>\n",
       "    </tr>\n",
       "    <tr>\n",
       "      <th>75%</th>\n",
       "      <td>47.000000</td>\n",
       "      <td>1.000000</td>\n",
       "      <td>0.000000</td>\n",
       "      <td>66104.500000</td>\n",
       "      <td>23547.000000</td>\n",
       "      <td>50000.000000</td>\n",
       "      <td>25000.000000</td>\n",
       "      <td>77.000000</td>\n",
       "      <td>0.000000</td>\n",
       "      <td>0.500000</td>\n",
       "      <td>1.000000</td>\n",
       "    </tr>\n",
       "    <tr>\n",
       "      <th>max</th>\n",
       "      <td>274.000000</td>\n",
       "      <td>1.000000</td>\n",
       "      <td>1.000000</td>\n",
       "      <td>993000.000000</td>\n",
       "      <td>913117.000000</td>\n",
       "      <td>993000.000000</td>\n",
       "      <td>746200.000000</td>\n",
       "      <td>774.000000</td>\n",
       "      <td>1.000000</td>\n",
       "      <td>0.900000</td>\n",
       "      <td>1.000000</td>\n",
       "    </tr>\n",
       "  </tbody>\n",
       "</table>\n",
       "</div>"
      ],
      "text/plain": [
       "             Term   RevLineCr      LowDoc  DisbursementGross   ChgOffPrinGr  \\\n",
       "count  335.000000  335.000000  335.000000         335.000000     335.000000   \n",
       "mean    35.644776    0.501493    0.041791       65023.056716   23172.710448   \n",
       "std     36.031620    0.500746    0.200411      113761.534746   68442.000823   \n",
       "min      0.000000    0.000000    0.000000        4412.000000       0.000000   \n",
       "25%     13.000000    0.000000    0.000000       16700.000000    5000.000000   \n",
       "50%     29.000000    1.000000    0.000000       30000.000000   10000.000000   \n",
       "75%     47.000000    1.000000    0.000000       66104.500000   23547.000000   \n",
       "max    274.000000    1.000000    1.000000      993000.000000  913117.000000   \n",
       "\n",
       "              GrAppv       SBA_Appv  DisbursementDuration_days   SameState  \\\n",
       "count     335.000000     335.000000                 335.000000  335.000000   \n",
       "mean    50974.677612   33855.450746                  70.244776    0.080597   \n",
       "std    107389.714693   84129.312193                  94.878806    0.272622   \n",
       "min      1500.000000     750.000000                   1.000000    0.000000   \n",
       "25%     10000.000000    5000.000000                  25.000000    0.000000   \n",
       "50%     25000.000000   12500.000000                  41.000000    0.000000   \n",
       "75%     50000.000000   25000.000000                  77.000000    0.000000   \n",
       "max    993000.000000  746200.000000                 774.000000    1.000000   \n",
       "\n",
       "       SBA_Gurantee_percent  IsDisbLargerThanGrAppv  \n",
       "count            335.000000              335.000000  \n",
       "mean               0.573304                0.465672  \n",
       "std                0.141092                0.499566  \n",
       "min                0.500000                0.000000  \n",
       "25%                0.500000                0.000000  \n",
       "50%                0.500000                0.000000  \n",
       "75%                0.500000                1.000000  \n",
       "max                0.900000                1.000000  "
      ]
     },
     "execution_count": 40,
     "metadata": {},
     "output_type": "execute_result"
    }
   ],
   "source": [
    "mask = np.logical_not(np.equal(y_test, y_xgtest_pred))\n",
    "\n",
    "print(\"Elements wrongly classified: \")\n",
    "wrongDF = X_test[mask]\n",
    "print(wrongDF.shape)\n",
    "wrongDF.describe()"
   ]
  },
  {
   "cell_type": "code",
   "execution_count": 47,
   "metadata": {
    "tags": []
   },
   "outputs": [
    {
     "name": "stdout",
     "output_type": "stream",
     "text": [
      "Prediction by the model for each of those elements:\n",
      "[0 0 0 0 0 0 0 0 0 0 0 0 0 0 0 1 0 0 0 0 0 0 0 0 0 0 0 0 0 0 0 0 0 0 0 0 0\n",
      " 0 0 0 0 0 0 0 0 0 0 0 0 0 0 0 0 0 0 0 0 0 0 0 0 0 0 0 0 0 0 1 0 0 0 0 0 0\n",
      " 0 0 1 0 0 0 0 0 0 0 0 0 0 0 0 0 0 0 0 0 0 0 0 0 0 0 0 0 0 0 0 0 0 0 0 0 0\n",
      " 0 0 0 0 0 0 0 0 1 0 0 0 0 0 0 0 0 0 0 0 0 0 0 0 0 0 0 0 0 0 0 0 0 0 0 0 0\n",
      " 0 0 0 0 0 0 0 0 0 0 0 0 0 0 0 0 0 0 0 0 0 0 0 0 0 0 0 0 0 0 0 0 0 0 0 0 0\n",
      " 0 0 0 0 0 0 0 0 0 0 0 0 0 0 0 0 0 0 1 0 0 0 0 0 0 0 0 0 0 0 0 0 0 0 0 0 0\n",
      " 0 0 1 0 0 0 0 0 0 0 1 0 0 0 0 0 0 0 1 0 0 0 0 0 0 0 0 0 0 0 0 0 0 0 0 0 0\n",
      " 0 0 0 0 0 0 0 0 0 1 0 0 0 0 0 0 0 1 0 0 0 1 0 0 0 0 0 0 0 0 0 0 0 0 0 0 0\n",
      " 0 0 0 0 0 0 0 0 0 0 0 0 0 0 0 0 0 0 0 0 0 0 0 0 0 0 0 0 0 0 0 0 0 0 0 0 0\n",
      " 0 0]\n",
      "Actual value for each of those elements:\n",
      "[1. 1. 1. 1. 1. 1. 1. 1. 1. 1. 1. 1. 1. 1. 1. 0. 1. 1. 1. 1. 1. 1. 1. 1.\n",
      " 1. 1. 1. 1. 1. 1. 1. 1. 1. 1. 1. 1. 1. 1. 1. 1. 1. 1. 1. 1. 1. 1. 1. 1.\n",
      " 1. 1. 1. 1. 1. 1. 1. 1. 1. 1. 1. 1. 1. 1. 1. 1. 1. 1. 1. 0. 1. 1. 1. 1.\n",
      " 1. 1. 1. 1. 0. 1. 1. 1. 1. 1. 1. 1. 1. 1. 1. 1. 1. 1. 1. 1. 1. 1. 1. 1.\n",
      " 1. 1. 1. 1. 1. 1. 1. 1. 1. 1. 1. 1. 1. 1. 1. 1. 1. 1. 1. 1. 1. 1. 1. 0.\n",
      " 1. 1. 1. 1. 1. 1. 1. 1. 1. 1. 1. 1. 1. 1. 1. 1. 1. 1. 1. 1. 1. 1. 1. 1.\n",
      " 1. 1. 1. 1. 1. 1. 1. 1. 1. 1. 1. 1. 1. 1. 1. 1. 1. 1. 1. 1. 1. 1. 1. 1.\n",
      " 1. 1. 1. 1. 1. 1. 1. 1. 1. 1. 1. 1. 1. 1. 1. 1. 1. 1. 1. 1. 1. 1. 1. 1.\n",
      " 1. 1. 1. 1. 1. 1. 1. 1. 1. 1. 1. 0. 1. 1. 1. 1. 1. 1. 1. 1. 1. 1. 1. 1.\n",
      " 1. 1. 1. 1. 1. 1. 1. 1. 0. 1. 1. 1. 1. 1. 1. 1. 0. 1. 1. 1. 1. 1. 1. 1.\n",
      " 0. 1. 1. 1. 1. 1. 1. 1. 1. 1. 1. 1. 1. 1. 1. 1. 1. 1. 1. 1. 1. 1. 1. 1.\n",
      " 1. 1. 1. 1. 0. 1. 1. 1. 1. 1. 1. 1. 0. 1. 1. 1. 0. 1. 1. 1. 1. 1. 1. 1.\n",
      " 1. 1. 1. 1. 1. 1. 1. 1. 1. 1. 1. 1. 1. 1. 1. 1. 1. 1. 1. 1. 1. 1. 1. 1.\n",
      " 1. 1. 1. 1. 1. 1. 1. 1. 1. 1. 1. 1. 1. 1. 1. 1. 1. 1. 1. 1. 1. 1. 1.]\n"
     ]
    }
   ],
   "source": [
    "print(f\"Prediction by the model for each of those elements:\\n{y_xgtest_pred[mask]}\")\n",
    "print(f\"Actual value for each of those elements:\\n{np.asarray(y_test)[mask]}\")"
   ]
  },
  {
   "cell_type": "code",
   "execution_count": null,
   "metadata": {},
   "outputs": [],
   "source": [
    "#As can be seen there were some missclassifications for class 1 (PIF) but very less miss classifications for class 0 (CHGOFF)\n",
    "#which is the minority class hence, we can say the model is still generalizing better "
   ]
  }
 ],
 "metadata": {
  "colab": {
   "provenance": []
  },
  "kernelspec": {
   "display_name": "Python 3 (ipykernel)",
   "language": "python",
   "name": "python3"
  },
  "language_info": {
   "codemirror_mode": {
    "name": "ipython",
    "version": 3
   },
   "file_extension": ".py",
   "mimetype": "text/x-python",
   "name": "python",
   "nbconvert_exporter": "python",
   "pygments_lexer": "ipython3",
   "version": "3.9.7"
  }
 },
 "nbformat": 4,
 "nbformat_minor": 4
}
