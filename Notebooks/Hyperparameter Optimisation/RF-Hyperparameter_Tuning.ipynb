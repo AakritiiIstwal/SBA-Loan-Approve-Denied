{
 "cells": [
  {
   "cell_type": "code",
   "execution_count": 1,
   "metadata": {
    "colab": {
     "base_uri": "https://localhost:8080/"
    },
    "id": "TuSof2dYONhQ",
    "outputId": "d1678596-eb39-4bbe-d286-245e354b79df",
    "tags": []
   },
   "outputs": [
    {
     "name": "stdout",
     "output_type": "stream",
     "text": [
      "Defaulting to user installation because normal site-packages is not writeable\n",
      "Requirement already satisfied: fast-ml in /pfs/data5/home/ma/ma_ma/ma_prajula/.local/lib/python3.9/site-packages (3.68)\n",
      "\n",
      "\u001b[1m[\u001b[0m\u001b[34;49mnotice\u001b[0m\u001b[1;39;49m]\u001b[0m\u001b[39;49m A new release of pip is available: \u001b[0m\u001b[31;49m23.0.1\u001b[0m\u001b[39;49m -> \u001b[0m\u001b[32;49m23.1.2\u001b[0m\n",
      "\u001b[1m[\u001b[0m\u001b[34;49mnotice\u001b[0m\u001b[1;39;49m]\u001b[0m\u001b[39;49m To update, run: \u001b[0m\u001b[32;49mpip install --upgrade pip\u001b[0m\n"
     ]
    }
   ],
   "source": [
    "!pip install fast-ml"
   ]
  },
  {
   "cell_type": "code",
   "execution_count": 2,
   "metadata": {
    "tags": []
   },
   "outputs": [
    {
     "name": "stdout",
     "output_type": "stream",
     "text": [
      "Defaulting to user installation because normal site-packages is not writeable\n",
      "Collecting pretty-confusion-matrix\n",
      "  Using cached pretty_confusion_matrix-0.1.1-py3-none-any.whl (9.6 kB)\n",
      "Requirement already satisfied: matplotlib<4.0.0,>=3.5.0 in /pfs/data5/software_uc2/bwhpc/common/jupyter/tensorflow/2023-03-24/lib/python3.9/site-packages (from pretty-confusion-matrix) (3.7.1)\n",
      "Collecting flake8<4.0.0,>=3.9.2\n",
      "  Using cached flake8-3.9.2-py2.py3-none-any.whl (73 kB)\n",
      "Collecting isort<6.0.0,>=5.8.0\n",
      "  Using cached isort-5.12.0-py3-none-any.whl (91 kB)\n",
      "Collecting sklearn<0.1,>=0.0\n",
      "  Using cached sklearn-0.0.post5.tar.gz (3.7 kB)\n",
      "  Preparing metadata (setup.py) ... \u001b[?25ldone\n",
      "\u001b[?25hRequirement already satisfied: pandas<2.0.0,>=1.3.4 in /pfs/data5/software_uc2/bwhpc/common/jupyter/tensorflow/2023-03-24/lib/python3.9/site-packages (from pretty-confusion-matrix) (1.5.3)\n",
      "Requirement already satisfied: numpy<2.0.0,>=1.21.4 in /pfs/data5/software_uc2/bwhpc/common/jupyter/tensorflow/2023-03-24/lib/python3.9/site-packages (from pretty-confusion-matrix) (1.23.5)\n",
      "Collecting black<22.0,>=21.5b0\n",
      "  Using cached black-21.12b0-py3-none-any.whl (156 kB)\n",
      "Collecting seaborn<0.12.0,>=0.11.2\n",
      "  Using cached seaborn-0.11.2-py3-none-any.whl (292 kB)\n",
      "Collecting pre-commit<3.0.0,>=2.12.1\n",
      "  Using cached pre_commit-2.21.0-py2.py3-none-any.whl (201 kB)\n",
      "Requirement already satisfied: typing-extensions>=3.10.0.0 in /pfs/data5/software_uc2/bwhpc/common/jupyter/tensorflow/2023-03-24/lib/python3.9/site-packages (from black<22.0,>=21.5b0->pretty-confusion-matrix) (4.5.0)\n",
      "Requirement already satisfied: platformdirs>=2 in /pfs/data5/software_uc2/bwhpc/common/jupyter/tensorflow/2023-03-24/lib/python3.9/site-packages (from black<22.0,>=21.5b0->pretty-confusion-matrix) (3.1.1)\n",
      "Collecting pathspec<1,>=0.9.0\n",
      "  Using cached pathspec-0.11.1-py3-none-any.whl (29 kB)\n",
      "Collecting mypy-extensions>=0.4.3\n",
      "  Using cached mypy_extensions-1.0.0-py3-none-any.whl (4.7 kB)\n",
      "Collecting tomli<2.0.0,>=0.2.6\n",
      "  Using cached tomli-1.2.3-py3-none-any.whl (12 kB)\n",
      "Requirement already satisfied: click>=7.1.2 in /pfs/data5/software_uc2/bwhpc/common/jupyter/tensorflow/2023-03-24/lib/python3.9/site-packages (from black<22.0,>=21.5b0->pretty-confusion-matrix) (8.1.3)\n",
      "Collecting pycodestyle<2.8.0,>=2.7.0\n",
      "  Using cached pycodestyle-2.7.0-py2.py3-none-any.whl (41 kB)\n",
      "Collecting mccabe<0.7.0,>=0.6.0\n",
      "  Using cached mccabe-0.6.1-py2.py3-none-any.whl (8.6 kB)\n",
      "Collecting pyflakes<2.4.0,>=2.3.0\n",
      "  Using cached pyflakes-2.3.1-py2.py3-none-any.whl (68 kB)\n",
      "Requirement already satisfied: pillow>=6.2.0 in /pfs/data5/software_uc2/bwhpc/common/jupyter/tensorflow/2023-03-24/lib/python3.9/site-packages (from matplotlib<4.0.0,>=3.5.0->pretty-confusion-matrix) (9.4.0)\n",
      "Requirement already satisfied: kiwisolver>=1.0.1 in /pfs/data5/software_uc2/bwhpc/common/jupyter/tensorflow/2023-03-24/lib/python3.9/site-packages (from matplotlib<4.0.0,>=3.5.0->pretty-confusion-matrix) (1.4.4)\n",
      "Requirement already satisfied: cycler>=0.10 in /pfs/data5/software_uc2/bwhpc/common/jupyter/tensorflow/2023-03-24/lib/python3.9/site-packages (from matplotlib<4.0.0,>=3.5.0->pretty-confusion-matrix) (0.11.0)\n",
      "Requirement already satisfied: importlib-resources>=3.2.0 in /pfs/data5/software_uc2/bwhpc/common/jupyter/tensorflow/2023-03-24/lib/python3.9/site-packages (from matplotlib<4.0.0,>=3.5.0->pretty-confusion-matrix) (5.12.0)\n",
      "Requirement already satisfied: contourpy>=1.0.1 in /pfs/data5/software_uc2/bwhpc/common/jupyter/tensorflow/2023-03-24/lib/python3.9/site-packages (from matplotlib<4.0.0,>=3.5.0->pretty-confusion-matrix) (1.0.7)\n",
      "Requirement already satisfied: pyparsing>=2.3.1 in /pfs/data5/software_uc2/bwhpc/common/jupyter/tensorflow/2023-03-24/lib/python3.9/site-packages (from matplotlib<4.0.0,>=3.5.0->pretty-confusion-matrix) (3.0.9)\n",
      "Requirement already satisfied: packaging>=20.0 in /pfs/data5/software_uc2/bwhpc/common/jupyter/tensorflow/2023-03-24/lib/python3.9/site-packages (from matplotlib<4.0.0,>=3.5.0->pretty-confusion-matrix) (23.0)\n",
      "Requirement already satisfied: python-dateutil>=2.7 in /pfs/data5/software_uc2/bwhpc/common/jupyter/tensorflow/2023-03-24/lib/python3.9/site-packages (from matplotlib<4.0.0,>=3.5.0->pretty-confusion-matrix) (2.8.2)\n",
      "Requirement already satisfied: fonttools>=4.22.0 in /pfs/data5/software_uc2/bwhpc/common/jupyter/tensorflow/2023-03-24/lib/python3.9/site-packages (from matplotlib<4.0.0,>=3.5.0->pretty-confusion-matrix) (4.39.2)\n",
      "Requirement already satisfied: pytz>=2020.1 in /pfs/data5/software_uc2/bwhpc/common/jupyter/tensorflow/2023-03-24/lib/python3.9/site-packages (from pandas<2.0.0,>=1.3.4->pretty-confusion-matrix) (2022.7.1)\n",
      "Collecting identify>=1.0.0\n",
      "  Using cached identify-2.5.24-py2.py3-none-any.whl (98 kB)\n",
      "Requirement already satisfied: pyyaml>=5.1 in /pfs/data5/software_uc2/bwhpc/common/jupyter/tensorflow/2023-03-24/lib/python3.9/site-packages (from pre-commit<3.0.0,>=2.12.1->pretty-confusion-matrix) (6.0)\n",
      "Collecting cfgv>=2.0.0\n",
      "  Using cached cfgv-3.3.1-py2.py3-none-any.whl (7.3 kB)\n",
      "Collecting nodeenv>=0.11.1\n",
      "  Using cached nodeenv-1.8.0-py2.py3-none-any.whl (22 kB)\n",
      "Requirement already satisfied: virtualenv>=20.10.0 in /pfs/data5/software_uc2/bwhpc/common/jupyter/tensorflow/2023-03-24/lib/python3.9/site-packages (from pre-commit<3.0.0,>=2.12.1->pretty-confusion-matrix) (20.21.0)\n",
      "Requirement already satisfied: scipy>=1.0 in /pfs/data5/software_uc2/bwhpc/common/jupyter/tensorflow/2023-03-24/lib/python3.9/site-packages (from seaborn<0.12.0,>=0.11.2->pretty-confusion-matrix) (1.10.1)\n",
      "Requirement already satisfied: zipp>=3.1.0 in /pfs/data5/software_uc2/bwhpc/common/jupyter/tensorflow/2023-03-24/lib/python3.9/site-packages (from importlib-resources>=3.2.0->matplotlib<4.0.0,>=3.5.0->pretty-confusion-matrix) (3.15.0)\n",
      "Requirement already satisfied: setuptools in /pfs/data5/software_uc2/bwhpc/common/jupyter/tensorflow/2023-03-24/lib/python3.9/site-packages (from nodeenv>=0.11.1->pre-commit<3.0.0,>=2.12.1->pretty-confusion-matrix) (50.3.2)\n",
      "Requirement already satisfied: six>=1.5 in /pfs/data5/software_uc2/bwhpc/common/jupyter/tensorflow/2023-03-24/lib/python3.9/site-packages (from python-dateutil>=2.7->matplotlib<4.0.0,>=3.5.0->pretty-confusion-matrix) (1.16.0)\n",
      "Requirement already satisfied: distlib<1,>=0.3.6 in /pfs/data5/software_uc2/bwhpc/common/jupyter/tensorflow/2023-03-24/lib/python3.9/site-packages (from virtualenv>=20.10.0->pre-commit<3.0.0,>=2.12.1->pretty-confusion-matrix) (0.3.6)\n",
      "Requirement already satisfied: filelock<4,>=3.4.1 in /pfs/data5/software_uc2/bwhpc/common/jupyter/tensorflow/2023-03-24/lib/python3.9/site-packages (from virtualenv>=20.10.0->pre-commit<3.0.0,>=2.12.1->pretty-confusion-matrix) (3.10.2)\n",
      "\u001b[31mERROR: Will not install to the user site because it will lack sys.path precedence to seaborn in /pfs/data5/software_uc2/bwhpc/common/jupyter/tensorflow/2023-03-24/lib/python3.9/site-packages\u001b[0m\u001b[31m\n",
      "\u001b[0m\n",
      "\u001b[1m[\u001b[0m\u001b[34;49mnotice\u001b[0m\u001b[1;39;49m]\u001b[0m\u001b[39;49m A new release of pip is available: \u001b[0m\u001b[31;49m23.0.1\u001b[0m\u001b[39;49m -> \u001b[0m\u001b[32;49m23.1.2\u001b[0m\n",
      "\u001b[1m[\u001b[0m\u001b[34;49mnotice\u001b[0m\u001b[1;39;49m]\u001b[0m\u001b[39;49m To update, run: \u001b[0m\u001b[32;49mpip install --upgrade pip\u001b[0m\n"
     ]
    }
   ],
   "source": [
    "!pip install pretty-confusion-matrix"
   ]
  },
  {
   "cell_type": "code",
   "execution_count": 2,
   "metadata": {
    "colab": {
     "base_uri": "https://localhost:8080/"
    },
    "id": "A2R0JweEGiDV",
    "outputId": "ad287986-3a54-4a8f-f1fe-77ec9ba6fadd"
   },
   "outputs": [
    {
     "name": "stdout",
     "output_type": "stream",
     "text": [
      "Drive already mounted at /content/drive; to attempt to forcibly remount, call drive.mount(\"/content/drive\", force_remount=True).\n"
     ]
    }
   ],
   "source": [
    "from google.colab import drive\n",
    "drive.mount('/content/drive')\n",
    "\n",
    "import os\n",
    "os.chdir(\"/content/drive/My Drive\")"
   ]
  },
  {
   "cell_type": "code",
   "execution_count": 3,
   "metadata": {
    "id": "VCesUYB5FBUY",
    "tags": []
   },
   "outputs": [],
   "source": [
    "import pandas as pd\n",
    "import numpy as np\n",
    "import matplotlib.pyplot as plt\n",
    "import seaborn as sns\n",
    "\n",
    "from sklearn.preprocessing import RobustScaler, StandardScaler, MinMaxScaler, MaxAbsScaler, LabelEncoder\n",
    "from sklearn.model_selection import train_test_split, RepeatedStratifiedKFold\n",
    "from sklearn.experimental import enable_halving_search_cv\n",
    "from sklearn.model_selection import HalvingGridSearchCV\n",
    "from sklearn.linear_model import LogisticRegression\n",
    "from fast_ml.model_development import train_valid_test_split\n",
    "\n",
    "from sklearn.neighbors import KNeighborsClassifier\n",
    "from sklearn.ensemble import RandomForestClassifier\n",
    "from sklearn.svm import SVC\n",
    "from sklearn.feature_selection import SelectKBest, chi2 ,f_classif\n",
    "from sklearn.pipeline import Pipeline\n",
    "import sklearn.metrics as metrics"
   ]
  },
  {
   "cell_type": "code",
   "execution_count": 4,
   "metadata": {
    "id": "vi8WmWYBFFyc"
   },
   "outputs": [],
   "source": [
    "# loanData = pd.read_csv('DM1 Project/CleanedData/cleanLoanData.csv')\n",
    "# loanData = loanData.drop(columns = ['Unnamed: 0'])"
   ]
  },
  {
   "cell_type": "code",
   "execution_count": 5,
   "metadata": {
    "tags": []
   },
   "outputs": [],
   "source": [
    "loanData = pd.read_csv('cleanLoanData.csv')\n",
    "loanData = loanData.drop(columns = ['Unnamed: 0'])"
   ]
  },
  {
   "cell_type": "markdown",
   "metadata": {
    "id": "ZFFkdFNOGtb1"
   },
   "source": [
    "#### Splitting into Train-Test"
   ]
  },
  {
   "cell_type": "code",
   "execution_count": 6,
   "metadata": {
    "id": "4VVwyb3GGpk7",
    "tags": []
   },
   "outputs": [],
   "source": [
    "X_train, y_train, X_val, y_val, X_test, y_test = train_valid_test_split(loanData, target = 'MIS_Status',train_size=0.8, valid_size=0.1, test_size=0.1) "
   ]
  },
  {
   "cell_type": "code",
   "execution_count": 7,
   "metadata": {
    "colab": {
     "base_uri": "https://localhost:8080/"
    },
    "id": "RIAZmKQVG08f",
    "outputId": "56f1d3ee-0f4a-4398-c858-6573f5504fe0",
    "tags": []
   },
   "outputs": [
    {
     "name": "stdout",
     "output_type": "stream",
     "text": [
      "(206864, 19)\n",
      "(206864,)\n",
      "(25858, 19)\n",
      "(25858,)\n",
      "(25858, 19)\n",
      "(25858,)\n"
     ]
    }
   ],
   "source": [
    "#checking shapes of all splitted sets\n",
    "print(X_train.shape)\n",
    "print(y_train.shape)\n",
    "print(X_val.shape)\n",
    "print(y_val.shape)\n",
    "print(X_test.shape)\n",
    "print(y_test.shape)"
   ]
  },
  {
   "cell_type": "markdown",
   "metadata": {
    "id": "WNj0jvGu0SLd"
   },
   "source": [
    "### Scaling the dataset for feature importance selections"
   ]
  },
  {
   "cell_type": "code",
   "execution_count": 8,
   "metadata": {
    "id": "UZmMazxu0Wj9",
    "tags": []
   },
   "outputs": [],
   "source": [
    "scaler = StandardScaler()\n",
    "X_train_scaled = scaler.fit_transform(X_train)\n",
    "X_train = pd.DataFrame(X_train_scaled, columns=X_train.columns)\n",
    "X_test_scaled = scaler.transform(X_test)\n",
    "X_test = pd.DataFrame(X_test_scaled, columns=X_test.columns)\n",
    "X_val_scaled = scaler.transform(X_val)\n",
    "X_val = pd.DataFrame(X_val_scaled, columns=X_val.columns)"
   ]
  },
  {
   "cell_type": "markdown",
   "metadata": {
    "id": "2A-elb2KG6gE"
   },
   "source": [
    "#### Selecting scores of features"
   ]
  },
  {
   "cell_type": "code",
   "execution_count": 9,
   "metadata": {
    "colab": {
     "base_uri": "https://localhost:8080/",
     "height": 638
    },
    "id": "KrsBrrhGG2lm",
    "outputId": "e7a33144-6791-49e6-b90e-9c5bc48202d4",
    "tags": []
   },
   "outputs": [
    {
     "data": {
      "text/html": [
       "<div>\n",
       "<style scoped>\n",
       "    .dataframe tbody tr th:only-of-type {\n",
       "        vertical-align: middle;\n",
       "    }\n",
       "\n",
       "    .dataframe tbody tr th {\n",
       "        vertical-align: top;\n",
       "    }\n",
       "\n",
       "    .dataframe thead th {\n",
       "        text-align: right;\n",
       "    }\n",
       "</style>\n",
       "<table border=\"1\" class=\"dataframe\">\n",
       "  <thead>\n",
       "    <tr style=\"text-align: right;\">\n",
       "      <th></th>\n",
       "      <th>Feature</th>\n",
       "      <th>Score</th>\n",
       "    </tr>\n",
       "  </thead>\n",
       "  <tbody>\n",
       "    <tr>\n",
       "      <th>0</th>\n",
       "      <td>ChgOffPrinGr</td>\n",
       "      <td>58478.550167</td>\n",
       "    </tr>\n",
       "    <tr>\n",
       "      <th>1</th>\n",
       "      <td>Term</td>\n",
       "      <td>40072.541857</td>\n",
       "    </tr>\n",
       "    <tr>\n",
       "      <th>2</th>\n",
       "      <td>SBA_Gurantee_percent</td>\n",
       "      <td>9739.450306</td>\n",
       "    </tr>\n",
       "    <tr>\n",
       "      <th>3</th>\n",
       "      <td>IsDisbLargerThanGrAppv</td>\n",
       "      <td>4681.741101</td>\n",
       "    </tr>\n",
       "    <tr>\n",
       "      <th>4</th>\n",
       "      <td>DisbursementDuration_days</td>\n",
       "      <td>2854.984689</td>\n",
       "    </tr>\n",
       "    <tr>\n",
       "      <th>5</th>\n",
       "      <td>LowDoc</td>\n",
       "      <td>2754.551120</td>\n",
       "    </tr>\n",
       "    <tr>\n",
       "      <th>6</th>\n",
       "      <td>SBA_Appv</td>\n",
       "      <td>2142.897645</td>\n",
       "    </tr>\n",
       "    <tr>\n",
       "      <th>7</th>\n",
       "      <td>GrAppv</td>\n",
       "      <td>1473.403029</td>\n",
       "    </tr>\n",
       "    <tr>\n",
       "      <th>8</th>\n",
       "      <td>RevLineCr</td>\n",
       "      <td>1416.482885</td>\n",
       "    </tr>\n",
       "    <tr>\n",
       "      <th>9</th>\n",
       "      <td>DisbursementGross</td>\n",
       "      <td>931.651140</td>\n",
       "    </tr>\n",
       "    <tr>\n",
       "      <th>10</th>\n",
       "      <td>SameState</td>\n",
       "      <td>678.382211</td>\n",
       "    </tr>\n",
       "    <tr>\n",
       "      <th>11</th>\n",
       "      <td>State</td>\n",
       "      <td>658.750939</td>\n",
       "    </tr>\n",
       "    <tr>\n",
       "      <th>12</th>\n",
       "      <td>BankState</td>\n",
       "      <td>502.884665</td>\n",
       "    </tr>\n",
       "    <tr>\n",
       "      <th>13</th>\n",
       "      <td>RetainedJob</td>\n",
       "      <td>198.292144</td>\n",
       "    </tr>\n",
       "    <tr>\n",
       "      <th>14</th>\n",
       "      <td>NoEmp</td>\n",
       "      <td>100.042454</td>\n",
       "    </tr>\n",
       "    <tr>\n",
       "      <th>15</th>\n",
       "      <td>NewExist</td>\n",
       "      <td>47.764938</td>\n",
       "    </tr>\n",
       "    <tr>\n",
       "      <th>16</th>\n",
       "      <td>IsFranchise</td>\n",
       "      <td>28.925046</td>\n",
       "    </tr>\n",
       "    <tr>\n",
       "      <th>17</th>\n",
       "      <td>NAICS</td>\n",
       "      <td>10.704439</td>\n",
       "    </tr>\n",
       "    <tr>\n",
       "      <th>18</th>\n",
       "      <td>CreateJob</td>\n",
       "      <td>2.461120</td>\n",
       "    </tr>\n",
       "  </tbody>\n",
       "</table>\n",
       "</div>"
      ],
      "text/plain": [
       "                      Feature         Score\n",
       "0                ChgOffPrinGr  58478.550167\n",
       "1                        Term  40072.541857\n",
       "2        SBA_Gurantee_percent   9739.450306\n",
       "3      IsDisbLargerThanGrAppv   4681.741101\n",
       "4   DisbursementDuration_days   2854.984689\n",
       "5                      LowDoc   2754.551120\n",
       "6                    SBA_Appv   2142.897645\n",
       "7                      GrAppv   1473.403029\n",
       "8                   RevLineCr   1416.482885\n",
       "9           DisbursementGross    931.651140\n",
       "10                  SameState    678.382211\n",
       "11                      State    658.750939\n",
       "12                  BankState    502.884665\n",
       "13                RetainedJob    198.292144\n",
       "14                      NoEmp    100.042454\n",
       "15                   NewExist     47.764938\n",
       "16                IsFranchise     28.925046\n",
       "17                      NAICS     10.704439\n",
       "18                  CreateJob      2.461120"
      ]
     },
     "execution_count": 9,
     "metadata": {},
     "output_type": "execute_result"
    }
   ],
   "source": [
    "bestfeatures = SelectKBest(score_func = f_classif, k='all')\n",
    "fit = bestfeatures.fit(X_train, y_train)\n",
    "scores = pd.DataFrame(fit.scores_.round(6))\n",
    "columns = pd.DataFrame(X_train.columns)\n",
    "featureScores = pd.concat([columns, scores], axis = 1)\n",
    "featureScores.columns = ['Feature','Score']\n",
    "featureScores = featureScores.sort_values('Score', ascending = False, ignore_index=True)\n",
    "featureScores"
   ]
  },
  {
   "cell_type": "code",
   "execution_count": 10,
   "metadata": {
    "colab": {
     "base_uri": "https://localhost:8080/",
     "height": 633
    },
    "id": "NIUCYYgWHI2u",
    "outputId": "a04e10b5-424e-4ba9-f69b-f620d34346cb",
    "tags": []
   },
   "outputs": [
    {
     "data": {
      "image/png": "[encoded data removed]",
      "text/plain": [
       "<Figure size 640x480 with 1 Axes>"
      ]
     },
     "metadata": {},
     "output_type": "display_data"
    }
   ],
   "source": [
    "sns.lineplot(data = featureScores, x = \"Feature\", y = \"Score\", color = \"red\", linewidth=2.5)\n",
    "plt.xticks(rotation = 90)\n",
    "plt.show()"
   ]
  },
  {
   "cell_type": "code",
   "execution_count": 11,
   "metadata": {
    "id": "pMnICj7WrmAM",
    "tags": []
   },
   "outputs": [],
   "source": [
    "#Dropping features\n",
    "loan_data_fdrop = loanData.drop(['State','BankState','RetainedJob','NoEmp','NewExist','IsFranchise','NAICS','CreateJob'], axis = 1)\n",
    "\n",
    "#Spliting into train-val-test\n",
    "X_train, y_train, X_val, y_val, X_test, y_test = train_valid_test_split(loan_data_fdrop, target = 'MIS_Status',train_size=0.8, valid_size=0.1, test_size=0.1) "
   ]
  },
  {
   "cell_type": "code",
   "execution_count": 12,
   "metadata": {
    "colab": {
     "base_uri": "https://localhost:8080/",
     "height": 407
    },
    "id": "UjA9b2w09d9H",
    "outputId": "d1e7156e-e675-45c0-a251-a5f7d8602ea4",
    "tags": []
   },
   "outputs": [
    {
     "data": {
      "image/png": "[encoded data removed]",
      "text/plain": [
       "<Figure size 1200x400 with 3 Axes>"
      ]
     },
     "metadata": {},
     "output_type": "display_data"
    }
   ],
   "source": [
    "import matplotlib.pyplot as plt\n",
    "\n",
    "fig, (ax, ax2, ax3) = plt.subplots(1, 3, figsize=(12, 4))\n",
    "colors = ['#4287f5', '#f54242']\n",
    "\n",
    "for i, subplot in enumerate([ax, ax2, ax3]):\n",
    "    y_values = [y_train, y_val, y_test][i]\n",
    "    y_values.value_counts().plot(kind='bar', ax=subplot, color=colors)\n",
    "\n",
    "    subplot.set_title('Class Distribution', fontsize=16)\n",
    "    subplot.set_xlabel('Class', fontsize=12)\n",
    "    subplot.set_ylabel('Count', fontsize=12)\n",
    "    subplot.tick_params(axis='x', rotation=0, labelsize=10)\n",
    "    subplot.tick_params(axis='y', labelsize=10)\n",
    "    subplot.grid(axis='y', linestyle='--', alpha=0.7)\n",
    "\n",
    "    for p in subplot.patches:\n",
    "        subplot.annotate(format(p.get_height(), '.0f'),\n",
    "                         (p.get_x() + p.get_width() / 2, p.get_height()),\n",
    "                         ha='center', va='center', xytext=(0, 5),\n",
    "                         textcoords='offset points', fontsize=10, color='black')\n",
    "\n",
    "    subplot.spines['top'].set_visible(False)\n",
    "    subplot.spines['right'].set_visible(False)\n",
    "\n",
    "plt.tight_layout()\n",
    "plt.show()\n"
   ]
  },
  {
   "cell_type": "markdown",
   "metadata": {
    "id": "_upuyjwWQ5i-"
   },
   "source": [
    "### Grid Search for Random Forest"
   ]
  },
  {
   "cell_type": "markdown",
   "metadata": {
    "id": "klj0ONhVbbj4"
   },
   "source": [
    "#### Random Forest"
   ]
  },
  {
   "cell_type": "code",
   "execution_count": 13,
   "metadata": {
    "id": "U67IhZTZcFW2",
    "tags": []
   },
   "outputs": [],
   "source": [
    "# estimator = RandomForestClassifier(random_state = 0)"
   ]
  },
  {
   "cell_type": "code",
   "execution_count": 14,
   "metadata": {
    "colab": {
     "base_uri": "https://localhost:8080/"
    },
    "id": "_QNZL25jcIJX",
    "outputId": "1e437243-1081-4d05-9b41-57e3c9c1aa92",
    "tags": []
   },
   "outputs": [],
   "source": [
    "# estimator.get_params()"
   ]
  },
  {
   "cell_type": "code",
   "execution_count": 15,
   "metadata": {
    "id": "l3Ym2qrAiwsL",
    "tags": []
   },
   "outputs": [],
   "source": [
    "# Random Forest\n",
    "pipe_rf  = Pipeline([('scaler', StandardScaler()), ('clf', RandomForestClassifier(random_state = 0, class_weight = 'balanced'))])"
   ]
  },
  {
   "cell_type": "code",
   "execution_count": 16,
   "metadata": {
    "id": "vWdEiR3WbeH4",
    "tags": []
   },
   "outputs": [],
   "source": [
    "rf_params = {\n",
    "    'scaler': [StandardScaler(), MinMaxScaler(), RobustScaler(), MaxAbsScaler()],\n",
    "    'clf__n_estimators': [10, 50, 100, 200, 500],\n",
    "    'clf__criterion': ['gini', 'entropy'],\n",
    "    'clf__max_depth': [None, 2, 5, 10],\n",
    "    'clf__min_samples_split': [2, 4, 8],\n",
    "    'clf__min_samples_leaf': [1, 2, 5]\n",
    "    }\n",
    "\n",
    "cv = RepeatedStratifiedKFold(n_splits = 5, n_repeats = 2, random_state = 0) #5 Fold cv repeated 2 times"
   ]
  },
  {
   "cell_type": "markdown",
   "metadata": {
    "id": "QUdVQ-PBjxyV"
   },
   "source": [
    "The factor param controls the rate at which the resources grow and the rate at which the number of candidates decrease. Per iter :-> n_reources*factor and n_candidates/factor"
   ]
  },
  {
   "cell_type": "code",
   "execution_count": 17,
   "metadata": {
    "colab": {
     "base_uri": "https://localhost:8080/",
     "height": 1000
    },
    "id": "ORq6cFt1bryw",
    "outputId": "43b44caf-9c95-4dda-90b0-0819f6bd2fe6",
    "tags": []
   },
   "outputs": [
    {
     "name": "stdout",
     "output_type": "stream",
     "text": [
      "n_iterations: 7\n",
      "n_required_iterations: 7\n",
      "n_possible_iterations: 7\n",
      "min_resources_: 283\n",
      "max_resources_: 206864\n",
      "aggressive_elimination: False\n",
      "factor: 3\n",
      "----------\n",
      "iter: 0\n",
      "n_candidates: 1440\n",
      "n_resources: 283\n",
      "Fitting 10 folds for each of 1440 candidates, totalling 14400 fits\n",
      "----------\n",
      "iter: 1\n",
      "n_candidates: 480\n",
      "n_resources: 849\n",
      "Fitting 10 folds for each of 480 candidates, totalling 4800 fits\n",
      "----------\n",
      "iter: 2\n",
      "n_candidates: 160\n",
      "n_resources: 2547\n",
      "Fitting 10 folds for each of 160 candidates, totalling 1600 fits\n",
      "----------\n",
      "iter: 3\n",
      "n_candidates: 54\n",
      "n_resources: 7641\n",
      "Fitting 10 folds for each of 54 candidates, totalling 540 fits\n",
      "----------\n",
      "iter: 4\n",
      "n_candidates: 18\n",
      "n_resources: 22923\n",
      "Fitting 10 folds for each of 18 candidates, totalling 180 fits\n",
      "----------\n",
      "iter: 5\n",
      "n_candidates: 6\n",
      "n_resources: 68769\n",
      "Fitting 10 folds for each of 6 candidates, totalling 60 fits\n",
      "----------\n",
      "iter: 6\n",
      "n_candidates: 2\n",
      "n_resources: 206307\n",
      "Fitting 10 folds for each of 2 candidates, totalling 20 fits\n"
     ]
    }
   ],
   "source": [
    "gs = HalvingGridSearchCV(pipe_rf, rf_params, scoring=\"f1_macro\", n_jobs=-1, min_resources=\"exhaust\", factor=3, verbose = 1, cv = cv)\n",
    "gs.fit(X_train, y_train)\n",
    "y_pred = gs.predict(X_val)"
   ]
  },
  {
   "cell_type": "markdown",
   "metadata": {
    "id": "m9XQUBuBjAk1"
   },
   "source": [
    ":::Results:::"
   ]
  },
  {
   "cell_type": "code",
   "execution_count": null,
   "metadata": {
    "id": "jBktn7b2gbNx",
    "tags": []
   },
   "outputs": [],
   "source": [
    "print(\"accuracy\",metrics.accuracy_score(y_val, y_pred))\n",
    "print(\"f1 score macro\",metrics.f1_score(y_val, y_pred, average='macro')) \n",
    "print(\"f1 score micro\",metrics.f1_score(y_val, y_pred, average='micro')) \n",
    "print(\"precision score\",metrics.precision_score(y_val, y_pred, average='macro')) \n",
    "print(\"recall score\",metrics.recall_score(y_val, y_pred, average='macro')) \n",
    "print(\"hamming_loss\",metrics.hamming_loss(y_val, y_pred))\n",
    "print(\"classification_report\", metrics.classification_report(y_val, y_pred))"
   ]
  },
  {
   "cell_type": "code",
   "execution_count": null,
   "metadata": {
    "id": "G51RdU0agevY",
    "tags": []
   },
   "outputs": [],
   "source": [
    "# Printing the number of resouces exhausted in each iteration\n",
    "print(\"Number of resources used in each iteration: \", gs.n_resources_)\n",
    "\n",
    "# Printing out the best parameters for the selected classifier\n",
    "print('Best Parameters: ', gs.best_params_)\n",
    "\n",
    "# Access the best set of parameters\n",
    "best_params_rf = gs.best_params_\n",
    "\n",
    "# Stores the optimum model in best_pipe\n",
    "best_pipe_rf = gs.best_estimator_\n",
    "\n",
    "results_df_rf = pd.DataFrame.from_dict(gs.cv_results_, orient='columns')"
   ]
  },
  {
   "cell_type": "markdown",
   "metadata": {
    "id": "gVGuJPghjOrx"
   },
   "source": [
    "Training using the best parameters obtained by Grid Search"
   ]
  },
  {
   "cell_type": "code",
   "execution_count": 20,
   "metadata": {
    "id": "7hmtWyhKjGsH",
    "tags": []
   },
   "outputs": [],
   "source": [
    "tuned_rf_pipe = Pipeline([('scaler',StandardScaler()),\n",
    "                          ('clf', RandomForestClassifier(n_estimators = 200, criterion = 'gini', max_depth = 2,\n",
    "                                                         min_samples_split = 2, min_samples_leaf = 2, random_state = 0))])"
   ]
  },
  {
   "cell_type": "code",
   "execution_count": 21,
   "metadata": {},
   "outputs": [],
   "source": [
    "#Dropping features\n",
    "X = loan_data_fdrop.drop(['MIS_Status'], axis = 1)\n",
    "y = loan_data_fdrop['MIS_Status']\n",
    "\n",
    "#Spliting into train-test\n",
    "X_train, X_test, y_train, y_test = train_test_split(X, y, stratify = y, test_size = 0.2, random_state = 0, shuffle = True)"
   ]
  },
  {
   "cell_type": "code",
   "execution_count": 22,
   "metadata": {
    "tags": []
   },
   "outputs": [],
   "source": [
    "tuned_rf_pipe.fit(X_train, y_train)\n",
    "y_test_pred = tuned_rf_pipe.predict(X_test)"
   ]
  },
  {
   "cell_type": "code",
   "execution_count": 32,
   "metadata": {
    "tags": []
   },
   "outputs": [],
   "source": [
    "def plot_confusion_matrix(y_true, y_pred, labels = ['CHGOFF', 'PIF'],\n",
    "                          normalize=False, title=None, cmap=plt.cm.coolwarm):\n",
    "\n",
    "    cm = metrics.confusion_matrix(y_true, y_pred)\n",
    "    fig, ax = plt.subplots(figsize=(10,6))\n",
    "    im = ax.imshow(cm, interpolation='nearest', cmap=cmap)\n",
    "    ax.figure.colorbar(im, ax=ax)\n",
    "    # We want to show all ticks...\n",
    "    ax.set(xticks=np.arange(cm.shape[1]),\n",
    "           yticks=np.arange(cm.shape[0]),\n",
    "           # ... and label them with the respective list entries\n",
    "           xticklabels=labels, yticklabels=labels,\n",
    "           title=title,\n",
    "           ylabel='ACTUAL',\n",
    "           xlabel='PREDICTED')\n",
    "    # Rotate the tick labels and set their alignment.\n",
    "    plt.setp(ax.get_xticklabels(), rotation=45, ha=\"right\",\n",
    "             rotation_mode=\"anchor\")\n",
    "    # Loop over data dimensions and create text annotations.\n",
    "    fmt = '.2f' if normalize else 'd'\n",
    "    thresh = cm.max() / 1.5\n",
    "    for i in range(cm.shape[0]):\n",
    "        for j in range(cm.shape[1]):\n",
    "            ax.text(j, i, format(cm[i, j], fmt),\n",
    "                    ha=\"center\", va=\"center\",\n",
    "                    color=\"snow\" if cm[i, j] > thresh else \"orange\",\n",
    "                    size=26)\n",
    "    ax.grid(False)\n",
    "    fig.tight_layout()\n",
    "    return ax"
   ]
  },
  {
   "cell_type": "code",
   "execution_count": 33,
   "metadata": {
    "tags": []
   },
   "outputs": [
    {
     "data": {
      "image/png": "[encoded data removed]",
      "text/plain": [
       "<Figure size 1000x600 with 2 Axes>"
      ]
     },
     "metadata": {},
     "output_type": "display_data"
    }
   ],
   "source": [
    "plot_confusion_matrix(y_test, y_test_pred, title=\"Confusion Matrix For Tuned Random Forest\")\n",
    "np.set_printoptions(precision=1)\n",
    "# Plot non-normalized confusion matrix\n",
    "plt.show()"
   ]
  },
  {
   "cell_type": "code",
   "execution_count": 30,
   "metadata": {
    "tags": []
   },
   "outputs": [
    {
     "name": "stdout",
     "output_type": "stream",
     "text": [
      "              precision    recall  f1-score   support\n",
      "\n",
      "         0.0       0.97      1.00      0.98      9749\n",
      "         1.0       1.00      0.99      1.00     41967\n",
      "\n",
      "    accuracy                           0.99     51716\n",
      "   macro avg       0.98      1.00      0.99     51716\n",
      "weighted avg       0.99      0.99      0.99     51716\n",
      "\n"
     ]
    }
   ],
   "source": [
    "# Final Classification Report\n",
    "print(metrics.classification_report(y_test, y_test_pred))"
   ]
  },
  {
   "cell_type": "code",
   "execution_count": null,
   "metadata": {},
   "outputs": [],
   "source": [
    "rf_model = tuned_rf_pipe.named_steps['clf']\n",
    "importances = rf_model.feature_importances_\n",
    "feature_names = X_train.columns\n",
    "\n",
    "indices = np.argsort(importances)[::-1]\n",
    "sorted_importances = importances[indices]\n",
    "sorted_feature_names = feature_names[indices]\n",
    "\n",
    "# Plotting the feature importances\n",
    "plt.figure(figsize=(10, 6))\n",
    "plt.title(\"Feature Importances\")\n",
    "plt.bar(range(X_train.shape[1]), sorted_importances, align=\"center\")\n",
    "plt.xticks(range(X_train.shape[1]), sorted_feature_names, rotation=90)\n",
    "plt.tight_layout()\n",
    "plt.show()"
   ]
  },
  {
   "cell_type": "code",
   "execution_count": null,
   "metadata": {},
   "outputs": [],
   "source": [
    "#Getting all the missclassified examples\n",
    "mask = (y_test != y_test_pred)\n",
    "missclassified_data = X_test[mask][['ChgOffPrinGr','Term','SBA_Gurantee_percent','DisbursementDuration_days']]\n",
    "missclassified_data.head()"
   ]
  },
  {
   "cell_type": "code",
   "execution_count": null,
   "metadata": {},
   "outputs": [],
   "source": [
    "scaler = StandardScaler()\n",
    "missclassified_data_scaled = scaler.fit_transform(missclassified_data)\n",
    "missclassified_data = pd.DataFrame(missclassified_data_scaled, columns=missclassified_data.columns)\n",
    "\n",
    "plt.figure(figsize = (10,6))\n",
    "\n",
    "for col in missclassified_data.columns:\n",
    "  sns.lineplot(data = missclassified_data[col], label = col)\n",
    "\n",
    "plt.title('Missclassification Trend Analysis')\n",
    "plt.ylim((0,4))\n",
    "plt.legend()\n",
    "plt.show()"
   ]
  }
 ],
 "metadata": {
  "colab": {
   "provenance": []
  },
  "kernelspec": {
   "display_name": "Python 3 (ipykernel)",
   "language": "python",
   "name": "python3"
  },
  "language_info": {
   "codemirror_mode": {
    "name": "ipython",
    "version": 3
   },
   "file_extension": ".py",
   "mimetype": "text/x-python",
   "name": "python",
   "nbconvert_exporter": "python",
   "pygments_lexer": "ipython3",
   "version": "3.9.7"
  }
 },
 "nbformat": 4,
 "nbformat_minor": 4
}
